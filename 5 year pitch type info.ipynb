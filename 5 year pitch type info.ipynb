{
 "cells": [
  {
   "cell_type": "code",
   "execution_count": 1,
   "id": "968acdee",
   "metadata": {},
   "outputs": [],
   "source": [
    "# Suppress Pandas Warnings\n",
    "import warnings\n",
    "warnings.simplefilter(action='ignore')"
   ]
  },
  {
   "cell_type": "code",
   "execution_count": 2,
   "id": "62b226a8",
   "metadata": {},
   "outputs": [],
   "source": [
    "#%pip install pybaseball;\n",
    "import os\n",
    "import re\n",
    "import csv\n",
    "import math\n",
    "#import tweepy # %pip install tweepy\n",
    "import requests\n",
    "import numpy as np\n",
    "import pandas as pd\n",
    "import matplotlib.pyplot as plt\n",
    "import xml.etree.ElementTree as ET\n",
    "import matplotlib.patches as patches\n",
    "import seaborn as sns\n",
    "from datetime import date, timedelta\n",
    "import datetime as dt\n",
    "#import statsapi # %pip install MLB-StatsAPI\n",
    "#from pybaseball import statcast"
   ]
  },
  {
   "cell_type": "markdown",
   "id": "4ee572b2",
   "metadata": {},
   "source": [
    "# data research"
   ]
  },
  {
   "cell_type": "code",
   "execution_count": 3,
   "id": "c650455e",
   "metadata": {},
   "outputs": [
    {
     "data": {
      "text/plain": [
       "FF    587488\n",
       "SI    284039\n",
       "SL    263410\n",
       "CH    158516\n",
       "CU    140128\n",
       "FC    101956\n",
       "KC     40095\n",
       "FS     20794\n",
       "ST     20067\n",
       "SV      4850\n",
       "FA      1513\n",
       "KN       543\n",
       "EP       427\n",
       "CS       307\n",
       "FO        45\n",
       "SC        22\n",
       "Name: pitch_type, dtype: int64"
      ]
     },
     "execution_count": 3,
     "metadata": {},
     "output_type": "execute_result"
    }
   ],
   "source": [
    "df = pd.read_csv('5 year raw download data with only called pitches and call type', sep='\\t', encoding='utf-8')\n",
    "df['pitch_type'].value_counts()"
   ]
  },
  {
   "cell_type": "code",
   "execution_count": 4,
   "id": "b6123fa1",
   "metadata": {},
   "outputs": [
    {
     "data": {
      "text/plain": [
       "ball             1087477\n",
       "called_strike     536806\n",
       "Name: description, dtype: int64"
      ]
     },
     "execution_count": 4,
     "metadata": {},
     "output_type": "execute_result"
    }
   ],
   "source": [
    "df['description'].value_counts()"
   ]
  },
  {
   "cell_type": "code",
   "execution_count": 5,
   "id": "3433cd85",
   "metadata": {},
   "outputs": [
    {
     "data": {
      "text/plain": [
       "1624283"
      ]
     },
     "execution_count": 5,
     "metadata": {},
     "output_type": "execute_result"
    }
   ],
   "source": [
    "len(df['pitch_type'])"
   ]
  },
  {
   "cell_type": "code",
   "execution_count": 6,
   "id": "60d3f04c",
   "metadata": {},
   "outputs": [
    {
     "data": {
      "text/plain": [
       "correct      1500923\n",
       "incorrect     123360\n",
       "Name: call, dtype: int64"
      ]
     },
     "metadata": {},
     "output_type": "display_data"
    }
   ],
   "source": [
    "display(df[\"call\"].value_counts())"
   ]
  },
  {
   "cell_type": "code",
   "execution_count": 7,
   "id": "3b37dcce",
   "metadata": {},
   "outputs": [],
   "source": [
    "#mark call column correct call as 0 , incorrect as 1\n",
    "df.loc[df[\"call\"] == \"incorrect\", \"call\"] = 1\n",
    "df.loc[df[\"call\"] == \"correct\", \"call\"] = 0"
   ]
  },
  {
   "cell_type": "code",
   "execution_count": 8,
   "id": "c1694dde",
   "metadata": {},
   "outputs": [
    {
     "name": "stdout",
     "output_type": "stream",
     "text": [
      "5 year BCR:  0.07594735646435996\n"
     ]
    }
   ],
   "source": [
    "print('5 year BCR: ',df['call'].mean())"
   ]
  },
  {
   "cell_type": "code",
   "execution_count": 9,
   "id": "a396c2e9",
   "metadata": {},
   "outputs": [
    {
     "data": {
      "text/html": [
       "<div>\n",
       "<style scoped>\n",
       "    .dataframe tbody tr th:only-of-type {\n",
       "        vertical-align: middle;\n",
       "    }\n",
       "\n",
       "    .dataframe tbody tr th {\n",
       "        vertical-align: top;\n",
       "    }\n",
       "\n",
       "    .dataframe thead th {\n",
       "        text-align: right;\n",
       "    }\n",
       "</style>\n",
       "<table border=\"1\" class=\"dataframe\">\n",
       "  <thead>\n",
       "    <tr style=\"text-align: right;\">\n",
       "      <th></th>\n",
       "      <th>call</th>\n",
       "    </tr>\n",
       "    <tr>\n",
       "      <th>pitch_type</th>\n",
       "      <th></th>\n",
       "    </tr>\n",
       "  </thead>\n",
       "  <tbody>\n",
       "    <tr>\n",
       "      <th>CH</th>\n",
       "      <td>0.057672</td>\n",
       "    </tr>\n",
       "    <tr>\n",
       "      <th>CS</th>\n",
       "      <td>0.042345</td>\n",
       "    </tr>\n",
       "    <tr>\n",
       "      <th>CU</th>\n",
       "      <td>0.067717</td>\n",
       "    </tr>\n",
       "    <tr>\n",
       "      <th>EP</th>\n",
       "      <td>0.110070</td>\n",
       "    </tr>\n",
       "    <tr>\n",
       "      <th>FA</th>\n",
       "      <td>0.077330</td>\n",
       "    </tr>\n",
       "    <tr>\n",
       "      <th>FC</th>\n",
       "      <td>0.080290</td>\n",
       "    </tr>\n",
       "    <tr>\n",
       "      <th>FF</th>\n",
       "      <td>0.082587</td>\n",
       "    </tr>\n",
       "    <tr>\n",
       "      <th>FO</th>\n",
       "      <td>0.066667</td>\n",
       "    </tr>\n",
       "    <tr>\n",
       "      <th>FS</th>\n",
       "      <td>0.050976</td>\n",
       "    </tr>\n",
       "    <tr>\n",
       "      <th>KC</th>\n",
       "      <td>0.066317</td>\n",
       "    </tr>\n",
       "    <tr>\n",
       "      <th>KN</th>\n",
       "      <td>0.095764</td>\n",
       "    </tr>\n",
       "    <tr>\n",
       "      <th>SC</th>\n",
       "      <td>0.227273</td>\n",
       "    </tr>\n",
       "    <tr>\n",
       "      <th>SI</th>\n",
       "      <td>0.087315</td>\n",
       "    </tr>\n",
       "    <tr>\n",
       "      <th>SL</th>\n",
       "      <td>0.066903</td>\n",
       "    </tr>\n",
       "    <tr>\n",
       "      <th>ST</th>\n",
       "      <td>0.064982</td>\n",
       "    </tr>\n",
       "    <tr>\n",
       "      <th>SV</th>\n",
       "      <td>0.067629</td>\n",
       "    </tr>\n",
       "  </tbody>\n",
       "</table>\n",
       "</div>"
      ],
      "text/plain": [
       "                call\n",
       "pitch_type          \n",
       "CH          0.057672\n",
       "CS          0.042345\n",
       "CU          0.067717\n",
       "EP          0.110070\n",
       "FA          0.077330\n",
       "FC          0.080290\n",
       "FF          0.082587\n",
       "FO          0.066667\n",
       "FS          0.050976\n",
       "KC          0.066317\n",
       "KN          0.095764\n",
       "SC          0.227273\n",
       "SI          0.087315\n",
       "SL          0.066903\n",
       "ST          0.064982\n",
       "SV          0.067629"
      ]
     },
     "execution_count": 9,
     "metadata": {},
     "output_type": "execute_result"
    }
   ],
   "source": [
    "pt = df[['pitch_type','call']]\n",
    "pt.groupby(\"pitch_type\").mean()"
   ]
  },
  {
   "cell_type": "code",
   "execution_count": 10,
   "id": "b7c7cafb",
   "metadata": {},
   "outputs": [],
   "source": [
    "#WORST at calling FF (0.082587) and SI (0.087315)\n",
    "#BEST AT calling CH (0.057672) and FS (0.050976)\n",
    "#IGNORING 5 outliers with least occurance"
   ]
  },
  {
   "cell_type": "code",
   "execution_count": 11,
   "id": "779c91f3",
   "metadata": {},
   "outputs": [
    {
     "name": "stdout",
     "output_type": "stream",
     "text": [
      "Avg BCR for 16 pitch types\n"
     ]
    },
    {
     "data": {
      "text/plain": [
       "0.0819898125"
      ]
     },
     "execution_count": 11,
     "metadata": {},
     "output_type": "execute_result"
    }
   ],
   "source": [
    "print(\"Avg BCR for 16 pitch types\")\n",
    "(0.057672+0.042345+0.067717+0.110070+0.077330+0.080290+0.082587+0.066667+0.050976+0.066317+0.095764+0.227273+0.087315+0.066903+ 0.064982+ 0.067629) /16        "
   ]
  },
  {
   "cell_type": "code",
   "execution_count": 12,
   "id": "30be3535",
   "metadata": {},
   "outputs": [
    {
     "name": "stdout",
     "output_type": "stream",
     "text": [
      "Remove 5 outliers with less than 1000 pitches: KN,EP,CS,FO,SC\n",
      "Avg BCR for 11 pitch types\n"
     ]
    },
    {
     "data": {
      "text/plain": [
       "0.06997436363636363"
      ]
     },
     "execution_count": 12,
     "metadata": {},
     "output_type": "execute_result"
    }
   ],
   "source": [
    "print(\"Remove 5 outliers with less than 1000 pitches: KN,EP,CS,FO,SC\")\n",
    "print(\"Avg BCR for 11 pitch types\")\n",
    "(0.057672+0.067717+0.077330+0.080290+0.082587+0.050976+0.066317+0.087315+0.066903+ 0.064982+ 0.067629) /11"
   ]
  },
  {
   "cell_type": "code",
   "execution_count": 13,
   "id": "24b34f4e",
   "metadata": {},
   "outputs": [
    {
     "data": {
      "text/html": [
       "<div>\n",
       "<style scoped>\n",
       "    .dataframe tbody tr th:only-of-type {\n",
       "        vertical-align: middle;\n",
       "    }\n",
       "\n",
       "    .dataframe tbody tr th {\n",
       "        vertical-align: top;\n",
       "    }\n",
       "\n",
       "    .dataframe thead th {\n",
       "        text-align: right;\n",
       "    }\n",
       "</style>\n",
       "<table border=\"1\" class=\"dataframe\">\n",
       "  <thead>\n",
       "    <tr style=\"text-align: right;\">\n",
       "      <th></th>\n",
       "      <th>call</th>\n",
       "    </tr>\n",
       "    <tr>\n",
       "      <th>pitch_type</th>\n",
       "      <th></th>\n",
       "    </tr>\n",
       "  </thead>\n",
       "  <tbody>\n",
       "    <tr>\n",
       "      <th>CH</th>\n",
       "      <td>0.824193</td>\n",
       "    </tr>\n",
       "    <tr>\n",
       "      <th>CS</th>\n",
       "      <td>0.605154</td>\n",
       "    </tr>\n",
       "    <tr>\n",
       "      <th>CU</th>\n",
       "      <td>0.967735</td>\n",
       "    </tr>\n",
       "    <tr>\n",
       "      <th>EP</th>\n",
       "      <td>1.573008</td>\n",
       "    </tr>\n",
       "    <tr>\n",
       "      <th>FA</th>\n",
       "      <td>1.105116</td>\n",
       "    </tr>\n",
       "    <tr>\n",
       "      <th>FC</th>\n",
       "      <td>1.147414</td>\n",
       "    </tr>\n",
       "    <tr>\n",
       "      <th>FF</th>\n",
       "      <td>1.180250</td>\n",
       "    </tr>\n",
       "    <tr>\n",
       "      <th>FO</th>\n",
       "      <td>0.952730</td>\n",
       "    </tr>\n",
       "    <tr>\n",
       "      <th>FS</th>\n",
       "      <td>0.728499</td>\n",
       "    </tr>\n",
       "    <tr>\n",
       "      <th>KC</th>\n",
       "      <td>0.947740</td>\n",
       "    </tr>\n",
       "    <tr>\n",
       "      <th>KN</th>\n",
       "      <td>1.368562</td>\n",
       "    </tr>\n",
       "    <tr>\n",
       "      <th>SC</th>\n",
       "      <td>3.247943</td>\n",
       "    </tr>\n",
       "    <tr>\n",
       "      <th>SI</th>\n",
       "      <td>1.247821</td>\n",
       "    </tr>\n",
       "    <tr>\n",
       "      <th>SL</th>\n",
       "      <td>0.956112</td>\n",
       "    </tr>\n",
       "    <tr>\n",
       "      <th>ST</th>\n",
       "      <td>0.928659</td>\n",
       "    </tr>\n",
       "    <tr>\n",
       "      <th>SV</th>\n",
       "      <td>0.966481</td>\n",
       "    </tr>\n",
       "  </tbody>\n",
       "</table>\n",
       "</div>"
      ],
      "text/plain": [
       "                call\n",
       "pitch_type          \n",
       "CH          0.824193\n",
       "CS          0.605154\n",
       "CU          0.967735\n",
       "EP          1.573008\n",
       "FA          1.105116\n",
       "FC          1.147414\n",
       "FF          1.180250\n",
       "FO          0.952730\n",
       "FS          0.728499\n",
       "KC          0.947740\n",
       "KN          1.368562\n",
       "SC          3.247943\n",
       "SI          1.247821\n",
       "SL          0.956112\n",
       "ST          0.928659\n",
       "SV          0.966481"
      ]
     },
     "execution_count": 13,
     "metadata": {},
     "output_type": "execute_result"
    }
   ],
   "source": [
    "pt.groupby(\"pitch_type\").mean()/0.06997436363636363"
   ]
  },
  {
   "cell_type": "code",
   "execution_count": 14,
   "id": "b04456c1",
   "metadata": {},
   "outputs": [
    {
     "name": "stdout",
     "output_type": "stream",
     "text": [
      "After removing 5 pitch types with less than 1000 pitches, we get Avg BCR of 0.07 for the 11 pitch types. We see that FF are 18% more likely than average to be called incorrectly and SI is 24.8% more liekly to be called incorrectly.\n"
     ]
    }
   ],
   "source": [
    "print(\"After removing 5 pitch types with less than 1000 pitches, we get Avg BCR of 0.07 for the 11 pitch types. We see that FF are 18% more likely than average to be called incorrectly and SI is 24.8% more liekly to be called incorrectly.\")"
   ]
  },
  {
   "cell_type": "markdown",
   "id": "ccdcc0c3",
   "metadata": {},
   "source": [
    "# Strike vs ball BCR"
   ]
  },
  {
   "cell_type": "code",
   "execution_count": 15,
   "id": "55dc8fa7",
   "metadata": {},
   "outputs": [],
   "source": [
    "strike_bcr = df[[\"call\",\"type\"]].loc[df[\"type\"] == \"S\"]"
   ]
  },
  {
   "cell_type": "code",
   "execution_count": 16,
   "id": "b0bd016e",
   "metadata": {},
   "outputs": [
    {
     "data": {
      "text/plain": [
       "0    463997\n",
       "1     72809\n",
       "Name: call, dtype: int64"
      ]
     },
     "execution_count": 16,
     "metadata": {},
     "output_type": "execute_result"
    }
   ],
   "source": [
    "strike_bcr[\"call\"].value_counts()"
   ]
  },
  {
   "cell_type": "code",
   "execution_count": 17,
   "id": "08b166c8",
   "metadata": {},
   "outputs": [
    {
     "name": "stdout",
     "output_type": "stream",
     "text": [
      "strike bad call ratio\n"
     ]
    },
    {
     "data": {
      "text/plain": [
       "0.13563372987634267"
      ]
     },
     "execution_count": 17,
     "metadata": {},
     "output_type": "execute_result"
    }
   ],
   "source": [
    "print(\"strike bad call ratio\")\n",
    "72809/len(strike_bcr)"
   ]
  },
  {
   "cell_type": "code",
   "execution_count": null,
   "id": "d8c1586b",
   "metadata": {},
   "outputs": [],
   "source": []
  },
  {
   "cell_type": "code",
   "execution_count": 18,
   "id": "f8fd2028",
   "metadata": {},
   "outputs": [],
   "source": [
    "ball_bcr = df[[\"call\",\"type\"]].loc[df[\"type\"] == \"B\"]"
   ]
  },
  {
   "cell_type": "code",
   "execution_count": 19,
   "id": "2067c879",
   "metadata": {},
   "outputs": [
    {
     "data": {
      "text/plain": [
       "0    1036926\n",
       "1      50551\n",
       "Name: call, dtype: int64"
      ]
     },
     "execution_count": 19,
     "metadata": {},
     "output_type": "execute_result"
    }
   ],
   "source": [
    "ball_bcr[\"call\"].value_counts()"
   ]
  },
  {
   "cell_type": "code",
   "execution_count": 20,
   "id": "f01742e0",
   "metadata": {},
   "outputs": [
    {
     "name": "stdout",
     "output_type": "stream",
     "text": [
      "ball bad call ratio\n"
     ]
    },
    {
     "data": {
      "text/plain": [
       "0.04648466128479039"
      ]
     },
     "execution_count": 20,
     "metadata": {},
     "output_type": "execute_result"
    }
   ],
   "source": [
    "print(\"ball bad call ratio\")\n",
    "50551/len(ball_bcr)"
   ]
  },
  {
   "cell_type": "markdown",
   "id": "70eabd0c",
   "metadata": {},
   "source": [
    "# Pitch zone"
   ]
  },
  {
   "cell_type": "code",
   "execution_count": 21,
   "id": "6952feda",
   "metadata": {},
   "outputs": [
    {
     "data": {
      "text/plain": [
       "Index(['Unnamed: 0.1', 'Unnamed: 0', 'pitch_type', 'game_date',\n",
       "       'release_speed', 'release_pos_x', 'release_pos_z', 'player_name',\n",
       "       'batter', 'pitcher', 'events', 'description', 'spin_dir',\n",
       "       'spin_rate_deprecated', 'break_angle_deprecated',\n",
       "       'break_length_deprecated', 'zone', 'des', 'game_type', 'stand',\n",
       "       'p_throws', 'home_team', 'away_team', 'type', 'hit_location', 'bb_type',\n",
       "       'balls', 'strikes', 'game_year', 'pfx_x', 'pfx_z', 'plate_x', 'plate_z',\n",
       "       'on_3b', 'on_2b', 'on_1b', 'outs_when_up', 'inning', 'inning_topbot',\n",
       "       'hc_x', 'hc_y', 'tfs_deprecated', 'tfs_zulu_deprecated', 'fielder_2',\n",
       "       'umpire', 'sv_id', 'vx0', 'vy0', 'vz0', 'ax', 'ay', 'az', 'sz_top',\n",
       "       'sz_bot', 'hit_distance_sc', 'launch_speed', 'launch_angle',\n",
       "       'effective_speed', 'release_spin_rate', 'release_extension', 'game_pk',\n",
       "       'pitcher.1', 'fielder_2.1', 'fielder_3', 'fielder_4', 'fielder_5',\n",
       "       'fielder_6', 'fielder_7', 'fielder_8', 'fielder_9', 'release_pos_y',\n",
       "       'estimated_ba_using_speedangle', 'estimated_woba_using_speedangle',\n",
       "       'woba_value', 'woba_denom', 'babip_value', 'iso_value',\n",
       "       'launch_speed_angle', 'at_bat_number', 'pitch_number', 'pitch_name',\n",
       "       'home_score', 'away_score', 'bat_score', 'fld_score', 'post_away_score',\n",
       "       'post_home_score', 'post_bat_score', 'post_fld_score',\n",
       "       'if_fielding_alignment', 'of_fielding_alignment', 'spin_axis',\n",
       "       'delta_home_win_exp', 'delta_run_exp', 'call'],\n",
       "      dtype='object')"
      ]
     },
     "execution_count": 21,
     "metadata": {},
     "output_type": "execute_result"
    }
   ],
   "source": [
    "df.columns"
   ]
  },
  {
   "cell_type": "code",
   "execution_count": 22,
   "id": "3703d7da",
   "metadata": {},
   "outputs": [
    {
     "data": {
      "text/plain": [
       "14.0    391404\n",
       "13.0    265341\n",
       "11.0    260498\n",
       "12.0    194770\n",
       "9.0      75555\n",
       "8.0      66955\n",
       "7.0      62657\n",
       "6.0      62589\n",
       "4.0      58596\n",
       "5.0      54990\n",
       "1.0      47305\n",
       "3.0      42896\n",
       "2.0      40727\n",
       "Name: zone, dtype: int64"
      ]
     },
     "execution_count": 22,
     "metadata": {},
     "output_type": "execute_result"
    }
   ],
   "source": [
    "df['zone'].value_counts()"
   ]
  },
  {
   "cell_type": "code",
   "execution_count": 23,
   "id": "8e66b124",
   "metadata": {},
   "outputs": [],
   "source": [
    "zonebcr = df[[\"call\",\"zone\"]]"
   ]
  },
  {
   "cell_type": "code",
   "execution_count": 24,
   "id": "3f042c22",
   "metadata": {},
   "outputs": [
    {
     "data": {
      "text/html": [
       "<div>\n",
       "<style scoped>\n",
       "    .dataframe tbody tr th:only-of-type {\n",
       "        vertical-align: middle;\n",
       "    }\n",
       "\n",
       "    .dataframe tbody tr th {\n",
       "        vertical-align: top;\n",
       "    }\n",
       "\n",
       "    .dataframe thead th {\n",
       "        text-align: right;\n",
       "    }\n",
       "</style>\n",
       "<table border=\"1\" class=\"dataframe\">\n",
       "  <thead>\n",
       "    <tr style=\"text-align: right;\">\n",
       "      <th></th>\n",
       "      <th>call</th>\n",
       "    </tr>\n",
       "    <tr>\n",
       "      <th>zone</th>\n",
       "      <th></th>\n",
       "    </tr>\n",
       "  </thead>\n",
       "  <tbody>\n",
       "    <tr>\n",
       "      <th>1.0</th>\n",
       "      <td>0.203636</td>\n",
       "    </tr>\n",
       "    <tr>\n",
       "      <th>2.0</th>\n",
       "      <td>0.097626</td>\n",
       "    </tr>\n",
       "    <tr>\n",
       "      <th>3.0</th>\n",
       "      <td>0.208971</td>\n",
       "    </tr>\n",
       "    <tr>\n",
       "      <th>4.0</th>\n",
       "      <td>0.029866</td>\n",
       "    </tr>\n",
       "    <tr>\n",
       "      <th>5.0</th>\n",
       "      <td>0.000655</td>\n",
       "    </tr>\n",
       "    <tr>\n",
       "      <th>6.0</th>\n",
       "      <td>0.036987</td>\n",
       "    </tr>\n",
       "    <tr>\n",
       "      <th>7.0</th>\n",
       "      <td>0.114895</td>\n",
       "    </tr>\n",
       "    <tr>\n",
       "      <th>8.0</th>\n",
       "      <td>0.077530</td>\n",
       "    </tr>\n",
       "    <tr>\n",
       "      <th>9.0</th>\n",
       "      <td>0.152035</td>\n",
       "    </tr>\n",
       "    <tr>\n",
       "      <th>11.0</th>\n",
       "      <td>0.055528</td>\n",
       "    </tr>\n",
       "    <tr>\n",
       "      <th>12.0</th>\n",
       "      <td>0.075381</td>\n",
       "    </tr>\n",
       "    <tr>\n",
       "      <th>13.0</th>\n",
       "      <td>0.078378</td>\n",
       "    </tr>\n",
       "    <tr>\n",
       "      <th>14.0</th>\n",
       "      <td>0.058418</td>\n",
       "    </tr>\n",
       "  </tbody>\n",
       "</table>\n",
       "</div>"
      ],
      "text/plain": [
       "          call\n",
       "zone          \n",
       "1.0   0.203636\n",
       "2.0   0.097626\n",
       "3.0   0.208971\n",
       "4.0   0.029866\n",
       "5.0   0.000655\n",
       "6.0   0.036987\n",
       "7.0   0.114895\n",
       "8.0   0.077530\n",
       "9.0   0.152035\n",
       "11.0  0.055528\n",
       "12.0  0.075381\n",
       "13.0  0.078378\n",
       "14.0  0.058418"
      ]
     },
     "execution_count": 24,
     "metadata": {},
     "output_type": "execute_result"
    }
   ],
   "source": [
    "zonebcr.groupby(\"zone\").mean()"
   ]
  },
  {
   "cell_type": "code",
   "execution_count": 25,
   "id": "6f33e644",
   "metadata": {},
   "outputs": [
    {
     "name": "stdout",
     "output_type": "stream",
     "text": [
      "Avg BCR for 13 strike zones\n"
     ]
    },
    {
     "data": {
      "text/plain": [
       "0.09153123076923078"
      ]
     },
     "execution_count": 25,
     "metadata": {},
     "output_type": "execute_result"
    }
   ],
   "source": [
    "print(\"Avg BCR for 13 strike zones\")\n",
    "(0.203636+0.097626+0.208971+0.029866+0.000655+0.036987+0.114895+0.077530+0.152035+0.055528+0.075381+0.078378+0.058418)/13"
   ]
  },
  {
   "cell_type": "code",
   "execution_count": 26,
   "id": "31b9d53a",
   "metadata": {},
   "outputs": [
    {
     "data": {
      "text/html": [
       "<div>\n",
       "<style scoped>\n",
       "    .dataframe tbody tr th:only-of-type {\n",
       "        vertical-align: middle;\n",
       "    }\n",
       "\n",
       "    .dataframe tbody tr th {\n",
       "        vertical-align: top;\n",
       "    }\n",
       "\n",
       "    .dataframe thead th {\n",
       "        text-align: right;\n",
       "    }\n",
       "</style>\n",
       "<table border=\"1\" class=\"dataframe\">\n",
       "  <thead>\n",
       "    <tr style=\"text-align: right;\">\n",
       "      <th></th>\n",
       "      <th>call</th>\n",
       "    </tr>\n",
       "    <tr>\n",
       "      <th>zone</th>\n",
       "      <th></th>\n",
       "    </tr>\n",
       "  </thead>\n",
       "  <tbody>\n",
       "    <tr>\n",
       "      <th>1.0</th>\n",
       "      <td>2.224770</td>\n",
       "    </tr>\n",
       "    <tr>\n",
       "      <th>2.0</th>\n",
       "      <td>1.066583</td>\n",
       "    </tr>\n",
       "    <tr>\n",
       "      <th>3.0</th>\n",
       "      <td>2.283052</td>\n",
       "    </tr>\n",
       "    <tr>\n",
       "      <th>4.0</th>\n",
       "      <td>0.326288</td>\n",
       "    </tr>\n",
       "    <tr>\n",
       "      <th>5.0</th>\n",
       "      <td>0.007152</td>\n",
       "    </tr>\n",
       "    <tr>\n",
       "      <th>6.0</th>\n",
       "      <td>0.404095</td>\n",
       "    </tr>\n",
       "    <tr>\n",
       "      <th>7.0</th>\n",
       "      <td>1.255259</td>\n",
       "    </tr>\n",
       "    <tr>\n",
       "      <th>8.0</th>\n",
       "      <td>0.847030</td>\n",
       "    </tr>\n",
       "    <tr>\n",
       "      <th>9.0</th>\n",
       "      <td>1.661017</td>\n",
       "    </tr>\n",
       "    <tr>\n",
       "      <th>11.0</th>\n",
       "      <td>0.606659</td>\n",
       "    </tr>\n",
       "    <tr>\n",
       "      <th>12.0</th>\n",
       "      <td>0.823557</td>\n",
       "    </tr>\n",
       "    <tr>\n",
       "      <th>13.0</th>\n",
       "      <td>0.856302</td>\n",
       "    </tr>\n",
       "    <tr>\n",
       "      <th>14.0</th>\n",
       "      <td>0.638229</td>\n",
       "    </tr>\n",
       "  </tbody>\n",
       "</table>\n",
       "</div>"
      ],
      "text/plain": [
       "          call\n",
       "zone          \n",
       "1.0   2.224770\n",
       "2.0   1.066583\n",
       "3.0   2.283052\n",
       "4.0   0.326288\n",
       "5.0   0.007152\n",
       "6.0   0.404095\n",
       "7.0   1.255259\n",
       "8.0   0.847030\n",
       "9.0   1.661017\n",
       "11.0  0.606659\n",
       "12.0  0.823557\n",
       "13.0  0.856302\n",
       "14.0  0.638229"
      ]
     },
     "execution_count": 26,
     "metadata": {},
     "output_type": "execute_result"
    }
   ],
   "source": [
    "zonebcr.groupby(\"zone\").mean()/0.09153123076923078"
   ]
  },
  {
   "cell_type": "code",
   "execution_count": 27,
   "id": "5aec2d42",
   "metadata": {},
   "outputs": [
    {
     "name": "stdout",
     "output_type": "stream",
     "text": [
      "Zone 1 and 3 are 2.22 times and 2.28 times more likely than average to be called incorrectly\n",
      "Zone 7 and 9 are 26% and 66% more likely than average to be called incorrectly\n"
     ]
    }
   ],
   "source": [
    "print(\"Zone 1 and 3 are 2.22 times and 2.28 times more likely than average to be called incorrectly\")\n",
    "print(\"Zone 7 and 9 are 26% and 66% more likely than average to be called incorrectly\")"
   ]
  },
  {
   "cell_type": "markdown",
   "id": "b64614c7",
   "metadata": {},
   "source": [
    "# Sinkers vs pitch zone"
   ]
  },
  {
   "cell_type": "code",
   "execution_count": 28,
   "id": "a6b3dacd",
   "metadata": {},
   "outputs": [],
   "source": [
    "sinker = df.query(\"pitch_type == 'SI'\")"
   ]
  },
  {
   "cell_type": "code",
   "execution_count": 29,
   "id": "a46927f1",
   "metadata": {},
   "outputs": [
    {
     "data": {
      "text/plain": [
       "14.0    55841\n",
       "13.0    53710\n",
       "11.0    43250\n",
       "12.0    29648\n",
       "9.0     16277\n",
       "8.0     15066\n",
       "7.0     13515\n",
       "6.0     13287\n",
       "5.0     10537\n",
       "4.0     10442\n",
       "3.0      7944\n",
       "1.0      7352\n",
       "2.0      7170\n",
       "Name: zone, dtype: int64"
      ]
     },
     "execution_count": 29,
     "metadata": {},
     "output_type": "execute_result"
    }
   ],
   "source": [
    "sinker['zone'].value_counts()"
   ]
  },
  {
   "cell_type": "code",
   "execution_count": 30,
   "id": "fb129f24",
   "metadata": {},
   "outputs": [],
   "source": [
    "sibcr = sinker[[\"call\",\"zone\"]]"
   ]
  },
  {
   "cell_type": "code",
   "execution_count": 31,
   "id": "d8106e94",
   "metadata": {},
   "outputs": [
    {
     "data": {
      "text/html": [
       "<div>\n",
       "<style scoped>\n",
       "    .dataframe tbody tr th:only-of-type {\n",
       "        vertical-align: middle;\n",
       "    }\n",
       "\n",
       "    .dataframe tbody tr th {\n",
       "        vertical-align: top;\n",
       "    }\n",
       "\n",
       "    .dataframe thead th {\n",
       "        text-align: right;\n",
       "    }\n",
       "</style>\n",
       "<table border=\"1\" class=\"dataframe\">\n",
       "  <thead>\n",
       "    <tr style=\"text-align: right;\">\n",
       "      <th></th>\n",
       "      <th>call</th>\n",
       "    </tr>\n",
       "    <tr>\n",
       "      <th>zone</th>\n",
       "      <th></th>\n",
       "    </tr>\n",
       "  </thead>\n",
       "  <tbody>\n",
       "    <tr>\n",
       "      <th>1.0</th>\n",
       "      <td>0.207291</td>\n",
       "    </tr>\n",
       "    <tr>\n",
       "      <th>2.0</th>\n",
       "      <td>0.107671</td>\n",
       "    </tr>\n",
       "    <tr>\n",
       "      <th>3.0</th>\n",
       "      <td>0.203046</td>\n",
       "    </tr>\n",
       "    <tr>\n",
       "      <th>4.0</th>\n",
       "      <td>0.035625</td>\n",
       "    </tr>\n",
       "    <tr>\n",
       "      <th>5.0</th>\n",
       "      <td>0.000854</td>\n",
       "    </tr>\n",
       "    <tr>\n",
       "      <th>6.0</th>\n",
       "      <td>0.045533</td>\n",
       "    </tr>\n",
       "    <tr>\n",
       "      <th>7.0</th>\n",
       "      <td>0.112616</td>\n",
       "    </tr>\n",
       "    <tr>\n",
       "      <th>8.0</th>\n",
       "      <td>0.085159</td>\n",
       "    </tr>\n",
       "    <tr>\n",
       "      <th>9.0</th>\n",
       "      <td>0.152424</td>\n",
       "    </tr>\n",
       "    <tr>\n",
       "      <th>11.0</th>\n",
       "      <td>0.056694</td>\n",
       "    </tr>\n",
       "    <tr>\n",
       "      <th>12.0</th>\n",
       "      <td>0.091136</td>\n",
       "    </tr>\n",
       "    <tr>\n",
       "      <th>13.0</th>\n",
       "      <td>0.089164</td>\n",
       "    </tr>\n",
       "    <tr>\n",
       "      <th>14.0</th>\n",
       "      <td>0.083756</td>\n",
       "    </tr>\n",
       "  </tbody>\n",
       "</table>\n",
       "</div>"
      ],
      "text/plain": [
       "          call\n",
       "zone          \n",
       "1.0   0.207291\n",
       "2.0   0.107671\n",
       "3.0   0.203046\n",
       "4.0   0.035625\n",
       "5.0   0.000854\n",
       "6.0   0.045533\n",
       "7.0   0.112616\n",
       "8.0   0.085159\n",
       "9.0   0.152424\n",
       "11.0  0.056694\n",
       "12.0  0.091136\n",
       "13.0  0.089164\n",
       "14.0  0.083756"
      ]
     },
     "execution_count": 31,
     "metadata": {},
     "output_type": "execute_result"
    }
   ],
   "source": [
    "sibcr.groupby(\"zone\").mean()"
   ]
  },
  {
   "cell_type": "code",
   "execution_count": null,
   "id": "c909bfc6",
   "metadata": {},
   "outputs": [],
   "source": []
  },
  {
   "cell_type": "markdown",
   "id": "c6fef2e9",
   "metadata": {},
   "source": [
    "# FF vs Pitch zone"
   ]
  },
  {
   "cell_type": "code",
   "execution_count": 32,
   "id": "5ef181fd",
   "metadata": {},
   "outputs": [
    {
     "data": {
      "text/plain": [
       "11.0    131258\n",
       "12.0    103808\n",
       "14.0     92131\n",
       "13.0     65765\n",
       "9.0      27653\n",
       "6.0      24959\n",
       "8.0      24065\n",
       "7.0      23194\n",
       "4.0      22627\n",
       "5.0      19654\n",
       "1.0      19382\n",
       "3.0      18229\n",
       "2.0      14763\n",
       "Name: zone, dtype: int64"
      ]
     },
     "execution_count": 32,
     "metadata": {},
     "output_type": "execute_result"
    }
   ],
   "source": [
    "ff = df.query(\"pitch_type == 'FF'\")\n",
    "ff['zone'].value_counts()"
   ]
  },
  {
   "cell_type": "code",
   "execution_count": 33,
   "id": "723d43df",
   "metadata": {},
   "outputs": [
    {
     "data": {
      "text/html": [
       "<div>\n",
       "<style scoped>\n",
       "    .dataframe tbody tr th:only-of-type {\n",
       "        vertical-align: middle;\n",
       "    }\n",
       "\n",
       "    .dataframe tbody tr th {\n",
       "        vertical-align: top;\n",
       "    }\n",
       "\n",
       "    .dataframe thead th {\n",
       "        text-align: right;\n",
       "    }\n",
       "</style>\n",
       "<table border=\"1\" class=\"dataframe\">\n",
       "  <thead>\n",
       "    <tr style=\"text-align: right;\">\n",
       "      <th></th>\n",
       "      <th>call</th>\n",
       "    </tr>\n",
       "    <tr>\n",
       "      <th>zone</th>\n",
       "      <th></th>\n",
       "    </tr>\n",
       "  </thead>\n",
       "  <tbody>\n",
       "    <tr>\n",
       "      <th>1.0</th>\n",
       "      <td>0.246363</td>\n",
       "    </tr>\n",
       "    <tr>\n",
       "      <th>2.0</th>\n",
       "      <td>0.132900</td>\n",
       "    </tr>\n",
       "    <tr>\n",
       "      <th>3.0</th>\n",
       "      <td>0.254978</td>\n",
       "    </tr>\n",
       "    <tr>\n",
       "      <th>4.0</th>\n",
       "      <td>0.031909</td>\n",
       "    </tr>\n",
       "    <tr>\n",
       "      <th>5.0</th>\n",
       "      <td>0.000509</td>\n",
       "    </tr>\n",
       "    <tr>\n",
       "      <th>6.0</th>\n",
       "      <td>0.040827</td>\n",
       "    </tr>\n",
       "    <tr>\n",
       "      <th>7.0</th>\n",
       "      <td>0.095025</td>\n",
       "    </tr>\n",
       "    <tr>\n",
       "      <th>8.0</th>\n",
       "      <td>0.062913</td>\n",
       "    </tr>\n",
       "    <tr>\n",
       "      <th>9.0</th>\n",
       "      <td>0.131306</td>\n",
       "    </tr>\n",
       "    <tr>\n",
       "      <th>11.0</th>\n",
       "      <td>0.045986</td>\n",
       "    </tr>\n",
       "    <tr>\n",
       "      <th>12.0</th>\n",
       "      <td>0.056653</td>\n",
       "    </tr>\n",
       "    <tr>\n",
       "      <th>13.0</th>\n",
       "      <td>0.119836</td>\n",
       "    </tr>\n",
       "    <tr>\n",
       "      <th>14.0</th>\n",
       "      <td>0.089394</td>\n",
       "    </tr>\n",
       "  </tbody>\n",
       "</table>\n",
       "</div>"
      ],
      "text/plain": [
       "          call\n",
       "zone          \n",
       "1.0   0.246363\n",
       "2.0   0.132900\n",
       "3.0   0.254978\n",
       "4.0   0.031909\n",
       "5.0   0.000509\n",
       "6.0   0.040827\n",
       "7.0   0.095025\n",
       "8.0   0.062913\n",
       "9.0   0.131306\n",
       "11.0  0.045986\n",
       "12.0  0.056653\n",
       "13.0  0.119836\n",
       "14.0  0.089394"
      ]
     },
     "execution_count": 33,
     "metadata": {},
     "output_type": "execute_result"
    }
   ],
   "source": [
    "ffbcr = ff[[\"call\",\"zone\"]]\n",
    "ffbcr.groupby(\"zone\").mean()"
   ]
  },
  {
   "cell_type": "code",
   "execution_count": 34,
   "id": "9773772b",
   "metadata": {},
   "outputs": [
    {
     "data": {
      "text/html": [
       "<div>\n",
       "<style scoped>\n",
       "    .dataframe tbody tr th:only-of-type {\n",
       "        vertical-align: middle;\n",
       "    }\n",
       "\n",
       "    .dataframe tbody tr th {\n",
       "        vertical-align: top;\n",
       "    }\n",
       "\n",
       "    .dataframe thead th {\n",
       "        text-align: right;\n",
       "    }\n",
       "</style>\n",
       "<table border=\"1\" class=\"dataframe\">\n",
       "  <thead>\n",
       "    <tr style=\"text-align: right;\">\n",
       "      <th></th>\n",
       "      <th>call</th>\n",
       "    </tr>\n",
       "    <tr>\n",
       "      <th>type</th>\n",
       "      <th></th>\n",
       "    </tr>\n",
       "  </thead>\n",
       "  <tbody>\n",
       "    <tr>\n",
       "      <th>B</th>\n",
       "      <td>0.053259</td>\n",
       "    </tr>\n",
       "    <tr>\n",
       "      <th>S</th>\n",
       "      <td>0.138195</td>\n",
       "    </tr>\n",
       "  </tbody>\n",
       "</table>\n",
       "</div>"
      ],
      "text/plain": [
       "          call\n",
       "type          \n",
       "B     0.053259\n",
       "S     0.138195"
      ]
     },
     "execution_count": 34,
     "metadata": {},
     "output_type": "execute_result"
    }
   ],
   "source": [
    "ffbcr = ff[[\"call\",\"type\"]]\n",
    "ffbcr.groupby(\"type\").mean()"
   ]
  },
  {
   "cell_type": "code",
   "execution_count": null,
   "id": "ab39351b",
   "metadata": {},
   "outputs": [],
   "source": []
  }
 ],
 "metadata": {
  "kernelspec": {
   "display_name": "Python 3 (ipykernel)",
   "language": "python",
   "name": "python3"
  },
  "language_info": {
   "codemirror_mode": {
    "name": "ipython",
    "version": 3
   },
   "file_extension": ".py",
   "mimetype": "text/x-python",
   "name": "python",
   "nbconvert_exporter": "python",
   "pygments_lexer": "ipython3",
   "version": "3.9.12"
  }
 },
 "nbformat": 4,
 "nbformat_minor": 5
}
