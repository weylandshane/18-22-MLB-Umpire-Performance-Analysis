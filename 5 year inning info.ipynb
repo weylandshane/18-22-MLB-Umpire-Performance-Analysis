{
 "cells": [
  {
   "cell_type": "code",
   "execution_count": 2,
   "id": "35527c0b",
   "metadata": {},
   "outputs": [],
   "source": [
    "#%pip install pybaseball;\n",
    "import os\n",
    "import re\n",
    "import csv\n",
    "import math\n",
    "#import tweepy # %pip install tweepy\n",
    "import requests\n",
    "import numpy as np\n",
    "import pandas as pd\n",
    "import matplotlib.pyplot as plt\n",
    "import xml.etree.ElementTree as ET\n",
    "import matplotlib.patches as patches\n",
    "import seaborn as sns\n",
    "from datetime import date, timedelta\n",
    "import datetime as dt\n",
    "#import statsapi # %pip install MLB-StatsAPI\n",
    "#from pybaseball import statcast"
   ]
  },
  {
   "cell_type": "code",
   "execution_count": 3,
   "id": "14267ba8",
   "metadata": {},
   "outputs": [],
   "source": [
    "# Suppress Pandas Warnings\n",
    "import warnings\n",
    "warnings.simplefilter(action='ignore')"
   ]
  },
  {
   "cell_type": "markdown",
   "id": "ebd34c12",
   "metadata": {},
   "source": [
    "# data research"
   ]
  },
  {
   "cell_type": "code",
   "execution_count": 4,
   "id": "7239b9a2",
   "metadata": {},
   "outputs": [],
   "source": [
    "#read saved csv file"
   ]
  },
  {
   "cell_type": "code",
   "execution_count": 5,
   "id": "5e6deaa8",
   "metadata": {},
   "outputs": [],
   "source": [
    "cwd = os.getcwd()  # Get the current working directory (cwd)\n",
    "files = os.listdir(cwd)  # Get all the files in that directory"
   ]
  },
  {
   "cell_type": "code",
   "execution_count": 6,
   "id": "fe8860ae",
   "metadata": {},
   "outputs": [
    {
     "name": "stdout",
     "output_type": "stream",
     "text": [
      "Files in 'C:\\\\Users\\\\Shane\\\\baseball ml': ['.ipynb_checkpoints', '5 year inning info.ipynb', '5 year pitch type info.ipynb', '5 year raw download data', '5 year raw download data with only called pitches and call type', 'Copy of Automate.ipynb', 'data processing.py', 'output.csv', 'Umpscores_Weather.ipynb', 'weather analysis.ipynb']\n"
     ]
    }
   ],
   "source": [
    "print(\"Files in %r: %s\" % (cwd, files))"
   ]
  },
  {
   "cell_type": "code",
   "execution_count": 7,
   "id": "eca7acc1",
   "metadata": {},
   "outputs": [
    {
     "data": {
      "text/plain": [
       "1     193111\n",
       "2     184011\n",
       "3     183784\n",
       "7     182729\n",
       "6     181757\n",
       "8     181379\n",
       "5     179076\n",
       "4     178302\n",
       "9     135574\n",
       "10     13391\n",
       "11      5678\n",
       "12      2535\n",
       "13      1383\n",
       "14       699\n",
       "15       444\n",
       "16       230\n",
       "18        94\n",
       "17        91\n",
       "19        15\n",
       "Name: inning, dtype: int64"
      ]
     },
     "execution_count": 7,
     "metadata": {},
     "output_type": "execute_result"
    }
   ],
   "source": [
    "df = pd.read_csv('5 year raw download data with only called pitches and call type', sep='\\t', encoding='utf-8')\n",
    "df['inning'].value_counts()"
   ]
  },
  {
   "cell_type": "code",
   "execution_count": 8,
   "id": "33caacc3",
   "metadata": {},
   "outputs": [
    {
     "data": {
      "text/plain": [
       "correct      1500923\n",
       "incorrect     123360\n",
       "Name: call, dtype: int64"
      ]
     },
     "metadata": {},
     "output_type": "display_data"
    }
   ],
   "source": [
    "display(df[\"call\"].value_counts())"
   ]
  },
  {
   "cell_type": "code",
   "execution_count": 9,
   "id": "99eb5116",
   "metadata": {},
   "outputs": [
    {
     "name": "stdout",
     "output_type": "stream",
     "text": [
      "Class 0: 1500923\n",
      "Class 1: 123360\n",
      "Proportion: 12.17 : 1\n"
     ]
    },
    {
     "data": {
      "image/png": "[encoded data removed]",
      "text/plain": [
       "<Figure size 432x288 with 1 Axes>"
      ]
     },
     "metadata": {
      "needs_background": "light"
     },
     "output_type": "display_data"
    }
   ],
   "source": [
    "target_count = df['call'].value_counts()\n",
    "print('Class 0:', target_count[\"correct\"])\n",
    "print('Class 1:', target_count[\"incorrect\"])\n",
    "print('Proportion:', round(target_count[\"correct\"] / target_count[\"incorrect\"], 2), ': 1')\n",
    "\n",
    "target_count.plot(kind='bar', title='Count (target)');"
   ]
  },
  {
   "cell_type": "code",
   "execution_count": 10,
   "id": "7e7c2e55",
   "metadata": {},
   "outputs": [
    {
     "data": {
      "text/plain": [
       "2019    372345\n",
       "2022    371246\n",
       "2021    370806\n",
       "2018    367511\n",
       "2020    142375\n",
       "Name: game_year, dtype: int64"
      ]
     },
     "metadata": {},
     "output_type": "display_data"
    }
   ],
   "source": [
    "display(df[\"game_year\"].value_counts())"
   ]
  },
  {
   "cell_type": "code",
   "execution_count": 11,
   "id": "04739431",
   "metadata": {},
   "outputs": [],
   "source": [
    "#mark call column correct call as 0 , incorrect as 1\n",
    "df.loc[df[\"call\"] == \"incorrect\", \"call\"] = 1\n",
    "df.loc[df[\"call\"] == \"correct\", \"call\"] = 0"
   ]
  },
  {
   "cell_type": "code",
   "execution_count": 12,
   "id": "e2c3389d",
   "metadata": {},
   "outputs": [
    {
     "name": "stdout",
     "output_type": "stream",
     "text": [
      "5 year BCR:  0.07594735646435996\n"
     ]
    }
   ],
   "source": [
    "print('5 year BCR: ',df['call'].mean())"
   ]
  },
  {
   "cell_type": "code",
   "execution_count": 13,
   "id": "f99cf634",
   "metadata": {},
   "outputs": [
    {
     "data": {
      "text/html": [
       "<div>\n",
       "<style scoped>\n",
       "    .dataframe tbody tr th:only-of-type {\n",
       "        vertical-align: middle;\n",
       "    }\n",
       "\n",
       "    .dataframe tbody tr th {\n",
       "        vertical-align: top;\n",
       "    }\n",
       "\n",
       "    .dataframe thead th {\n",
       "        text-align: right;\n",
       "    }\n",
       "</style>\n",
       "<table border=\"1\" class=\"dataframe\">\n",
       "  <thead>\n",
       "    <tr style=\"text-align: right;\">\n",
       "      <th></th>\n",
       "      <th>call</th>\n",
       "    </tr>\n",
       "    <tr>\n",
       "      <th>game_year</th>\n",
       "      <th></th>\n",
       "    </tr>\n",
       "  </thead>\n",
       "  <tbody>\n",
       "    <tr>\n",
       "      <th>2018</th>\n",
       "      <td>0.082022</td>\n",
       "    </tr>\n",
       "    <tr>\n",
       "      <th>2019</th>\n",
       "      <td>0.078642</td>\n",
       "    </tr>\n",
       "    <tr>\n",
       "      <th>2020</th>\n",
       "      <td>0.076116</td>\n",
       "    </tr>\n",
       "    <tr>\n",
       "      <th>2021</th>\n",
       "      <td>0.073087</td>\n",
       "    </tr>\n",
       "    <tr>\n",
       "      <th>2022</th>\n",
       "      <td>0.070024</td>\n",
       "    </tr>\n",
       "  </tbody>\n",
       "</table>\n",
       "</div>"
      ],
      "text/plain": [
       "               call\n",
       "game_year          \n",
       "2018       0.082022\n",
       "2019       0.078642\n",
       "2020       0.076116\n",
       "2021       0.073087\n",
       "2022       0.070024"
      ]
     },
     "execution_count": 13,
     "metadata": {},
     "output_type": "execute_result"
    }
   ],
   "source": [
    "bcr_info = df[[\"call\",\"game_year\"]]\n",
    "bcr_info.groupby(\"game_year\").mean()"
   ]
  },
  {
   "cell_type": "markdown",
   "id": "2702e5eb",
   "metadata": {},
   "source": [
    "# regular inning 1-9 data"
   ]
  },
  {
   "cell_type": "code",
   "execution_count": 14,
   "id": "014c6b5f",
   "metadata": {},
   "outputs": [],
   "source": [
    "df1 = df[[\"call\",\"inning\"]].loc[df[\"inning\"] <= 9]"
   ]
  },
  {
   "cell_type": "code",
   "execution_count": 15,
   "id": "730b2e49",
   "metadata": {},
   "outputs": [
    {
     "data": {
      "text/plain": [
       "1    193111\n",
       "2    184011\n",
       "3    183784\n",
       "7    182729\n",
       "6    181757\n",
       "8    181379\n",
       "5    179076\n",
       "4    178302\n",
       "9    135574\n",
       "Name: inning, dtype: int64"
      ]
     },
     "execution_count": 15,
     "metadata": {},
     "output_type": "execute_result"
    }
   ],
   "source": [
    "df1['inning'].value_counts()"
   ]
  },
  {
   "cell_type": "code",
   "execution_count": 16,
   "id": "8ea7d596",
   "metadata": {},
   "outputs": [],
   "source": [
    "df1_bcr = df1.groupby(\"inning\").mean()"
   ]
  },
  {
   "cell_type": "code",
   "execution_count": 17,
   "id": "a06bba98",
   "metadata": {},
   "outputs": [
    {
     "data": {
      "text/html": [
       "<div>\n",
       "<style scoped>\n",
       "    .dataframe tbody tr th:only-of-type {\n",
       "        vertical-align: middle;\n",
       "    }\n",
       "\n",
       "    .dataframe tbody tr th {\n",
       "        vertical-align: top;\n",
       "    }\n",
       "\n",
       "    .dataframe thead th {\n",
       "        text-align: right;\n",
       "    }\n",
       "</style>\n",
       "<table border=\"1\" class=\"dataframe\">\n",
       "  <thead>\n",
       "    <tr style=\"text-align: right;\">\n",
       "      <th></th>\n",
       "      <th>call</th>\n",
       "    </tr>\n",
       "    <tr>\n",
       "      <th>inning</th>\n",
       "      <th></th>\n",
       "    </tr>\n",
       "  </thead>\n",
       "  <tbody>\n",
       "    <tr>\n",
       "      <th>1</th>\n",
       "      <td>0.077199</td>\n",
       "    </tr>\n",
       "    <tr>\n",
       "      <th>2</th>\n",
       "      <td>0.075762</td>\n",
       "    </tr>\n",
       "    <tr>\n",
       "      <th>3</th>\n",
       "      <td>0.076731</td>\n",
       "    </tr>\n",
       "    <tr>\n",
       "      <th>4</th>\n",
       "      <td>0.077767</td>\n",
       "    </tr>\n",
       "    <tr>\n",
       "      <th>5</th>\n",
       "      <td>0.074739</td>\n",
       "    </tr>\n",
       "    <tr>\n",
       "      <th>6</th>\n",
       "      <td>0.074864</td>\n",
       "    </tr>\n",
       "    <tr>\n",
       "      <th>7</th>\n",
       "      <td>0.076260</td>\n",
       "    </tr>\n",
       "    <tr>\n",
       "      <th>8</th>\n",
       "      <td>0.074744</td>\n",
       "    </tr>\n",
       "    <tr>\n",
       "      <th>9</th>\n",
       "      <td>0.075442</td>\n",
       "    </tr>\n",
       "  </tbody>\n",
       "</table>\n",
       "</div>"
      ],
      "text/plain": [
       "            call\n",
       "inning          \n",
       "1       0.077199\n",
       "2       0.075762\n",
       "3       0.076731\n",
       "4       0.077767\n",
       "5       0.074739\n",
       "6       0.074864\n",
       "7       0.076260\n",
       "8       0.074744\n",
       "9       0.075442"
      ]
     },
     "execution_count": 17,
     "metadata": {},
     "output_type": "execute_result"
    }
   ],
   "source": [
    "df1_bcr"
   ]
  },
  {
   "cell_type": "code",
   "execution_count": 18,
   "id": "76eed963",
   "metadata": {},
   "outputs": [],
   "source": [
    "#best inning happens at 9, worst inning happens at 4"
   ]
  },
  {
   "cell_type": "code",
   "execution_count": 19,
   "id": "25a3c84f",
   "metadata": {},
   "outputs": [
    {
     "name": "stdout",
     "output_type": "stream",
     "text": [
      "Avg BCR for the  9 innings is\n"
     ]
    },
    {
     "data": {
      "text/plain": [
       "0.07594533333333335"
      ]
     },
     "execution_count": 19,
     "metadata": {},
     "output_type": "execute_result"
    }
   ],
   "source": [
    "print(\"Avg BCR for the  9 innings is\")\n",
    "(0.077199+0.075762+0.076731+0.077767+0.074739+0.074864+0.076260+0.074744+0.075442)/9"
   ]
  },
  {
   "cell_type": "code",
   "execution_count": 20,
   "id": "441b041a",
   "metadata": {},
   "outputs": [
    {
     "data": {
      "text/html": [
       "<div>\n",
       "<style scoped>\n",
       "    .dataframe tbody tr th:only-of-type {\n",
       "        vertical-align: middle;\n",
       "    }\n",
       "\n",
       "    .dataframe tbody tr th {\n",
       "        vertical-align: top;\n",
       "    }\n",
       "\n",
       "    .dataframe thead th {\n",
       "        text-align: right;\n",
       "    }\n",
       "</style>\n",
       "<table border=\"1\" class=\"dataframe\">\n",
       "  <thead>\n",
       "    <tr style=\"text-align: right;\">\n",
       "      <th></th>\n",
       "      <th>call</th>\n",
       "    </tr>\n",
       "    <tr>\n",
       "      <th>inning</th>\n",
       "      <th></th>\n",
       "    </tr>\n",
       "  </thead>\n",
       "  <tbody>\n",
       "    <tr>\n",
       "      <th>1</th>\n",
       "      <td>1.016509</td>\n",
       "    </tr>\n",
       "    <tr>\n",
       "      <th>2</th>\n",
       "      <td>0.997583</td>\n",
       "    </tr>\n",
       "    <tr>\n",
       "      <th>3</th>\n",
       "      <td>1.010350</td>\n",
       "    </tr>\n",
       "    <tr>\n",
       "      <th>4</th>\n",
       "      <td>1.023986</td>\n",
       "    </tr>\n",
       "    <tr>\n",
       "      <th>5</th>\n",
       "      <td>0.984119</td>\n",
       "    </tr>\n",
       "    <tr>\n",
       "      <th>6</th>\n",
       "      <td>0.985758</td>\n",
       "    </tr>\n",
       "    <tr>\n",
       "      <th>7</th>\n",
       "      <td>1.004150</td>\n",
       "    </tr>\n",
       "    <tr>\n",
       "      <th>8</th>\n",
       "      <td>0.984182</td>\n",
       "    </tr>\n",
       "    <tr>\n",
       "      <th>9</th>\n",
       "      <td>0.993375</td>\n",
       "    </tr>\n",
       "  </tbody>\n",
       "</table>\n",
       "</div>"
      ],
      "text/plain": [
       "            call\n",
       "inning          \n",
       "1       1.016509\n",
       "2       0.997583\n",
       "3       1.010350\n",
       "4       1.023986\n",
       "5       0.984119\n",
       "6       0.985758\n",
       "7       1.004150\n",
       "8       0.984182\n",
       "9       0.993375"
      ]
     },
     "execution_count": 20,
     "metadata": {},
     "output_type": "execute_result"
    }
   ],
   "source": [
    "df1.groupby(\"inning\").mean()/0.07594533333333335"
   ]
  },
  {
   "cell_type": "code",
   "execution_count": null,
   "id": "7ac3df79",
   "metadata": {},
   "outputs": [],
   "source": [
    "\"innings have no impact on BCR\""
   ]
  },
  {
   "cell_type": "markdown",
   "id": "9b8ff270",
   "metadata": {},
   "source": [
    "# bcr_inning by early, mid and late game"
   ]
  },
  {
   "cell_type": "code",
   "execution_count": 21,
   "id": "d77a32c3",
   "metadata": {},
   "outputs": [],
   "source": [
    "early = df[[\"call\"]].loc[df[\"inning\"] <= 3]"
   ]
  },
  {
   "cell_type": "code",
   "execution_count": 22,
   "id": "ab121319",
   "metadata": {},
   "outputs": [
    {
     "data": {
      "text/plain": [
       "call    0.076574\n",
       "dtype: float64"
      ]
     },
     "execution_count": 22,
     "metadata": {},
     "output_type": "execute_result"
    }
   ],
   "source": [
    "early.mean()"
   ]
  },
  {
   "cell_type": "code",
   "execution_count": 23,
   "id": "bade5ec0",
   "metadata": {},
   "outputs": [
    {
     "data": {
      "text/plain": [
       "call\n",
       "0       164436\n",
       "1        13866\n",
       "dtype: int64"
      ]
     },
     "metadata": {},
     "output_type": "display_data"
    },
    {
     "data": {
      "text/plain": [
       "call\n",
       "0       165692\n",
       "1        13384\n",
       "dtype: int64"
      ]
     },
     "metadata": {},
     "output_type": "display_data"
    },
    {
     "data": {
      "text/plain": [
       "call\n",
       "0       168150\n",
       "1        13607\n",
       "dtype: int64"
      ]
     },
     "metadata": {},
     "output_type": "display_data"
    },
    {
     "data": {
      "text/plain": [
       "0.07577879380860081"
      ]
     },
     "execution_count": 23,
     "metadata": {},
     "output_type": "execute_result"
    }
   ],
   "source": [
    "inn4 = df[[\"call\"]].loc[df[\"inning\"] == 4]\n",
    "inn5 = df[[\"call\"]].loc[df[\"inning\"] == 5]\n",
    "inn6 = df[[\"call\"]].loc[df[\"inning\"] == 6]\n",
    "display(inn4.value_counts())\n",
    "display(inn5.value_counts())\n",
    "display(inn6.value_counts())\n",
    "\n",
    "(13865+13384+13606)/ (len(inn4)+len(inn5)+len(inn6))"
   ]
  },
  {
   "cell_type": "code",
   "execution_count": 24,
   "id": "5afc7329",
   "metadata": {},
   "outputs": [
    {
     "data": {
      "text/plain": [
       "call\n",
       "0       168794\n",
       "1        13935\n",
       "dtype: int64"
      ]
     },
     "metadata": {},
     "output_type": "display_data"
    },
    {
     "data": {
      "text/plain": [
       "call\n",
       "0       167822\n",
       "1        13557\n",
       "dtype: int64"
      ]
     },
     "metadata": {},
     "output_type": "display_data"
    },
    {
     "data": {
      "text/plain": [
       "call\n",
       "0       125346\n",
       "1        10228\n",
       "dtype: int64"
      ]
     },
     "metadata": {},
     "output_type": "display_data"
    },
    {
     "data": {
      "text/plain": [
       "0.07548600910178874"
      ]
     },
     "execution_count": 24,
     "metadata": {},
     "output_type": "execute_result"
    }
   ],
   "source": [
    "inn7 = df[[\"call\"]].loc[df[\"inning\"] == 7]\n",
    "inn8 = df[[\"call\"]].loc[df[\"inning\"] == 8]\n",
    "inn9 = df[[\"call\"]].loc[df[\"inning\"] == 9]\n",
    "display(inn7.value_counts())\n",
    "display(inn8.value_counts())\n",
    "display(inn9.value_counts())\n",
    "\n",
    "(13936+13556+10227)/ (len(inn7)+len(inn8)+len(inn9))"
   ]
  },
  {
   "cell_type": "code",
   "execution_count": 25,
   "id": "75730e22",
   "metadata": {},
   "outputs": [],
   "source": [
    "#bad call ratio decreases as it gets to later of the game"
   ]
  },
  {
   "cell_type": "markdown",
   "id": "4f15ed36",
   "metadata": {},
   "source": [
    "# bcr_inning by year"
   ]
  },
  {
   "cell_type": "code",
   "execution_count": 26,
   "id": "2402bb77",
   "metadata": {},
   "outputs": [
    {
     "data": {
      "text/plain": [
       "0    337367\n",
       "1     30144\n",
       "Name: call, dtype: int64"
      ]
     },
     "metadata": {},
     "output_type": "display_data"
    },
    {
     "data": {
      "text/html": [
       "<div>\n",
       "<style scoped>\n",
       "    .dataframe tbody tr th:only-of-type {\n",
       "        vertical-align: middle;\n",
       "    }\n",
       "\n",
       "    .dataframe tbody tr th {\n",
       "        vertical-align: top;\n",
       "    }\n",
       "\n",
       "    .dataframe thead th {\n",
       "        text-align: right;\n",
       "    }\n",
       "</style>\n",
       "<table border=\"1\" class=\"dataframe\">\n",
       "  <thead>\n",
       "    <tr style=\"text-align: right;\">\n",
       "      <th></th>\n",
       "      <th>call</th>\n",
       "    </tr>\n",
       "    <tr>\n",
       "      <th>inning</th>\n",
       "      <th></th>\n",
       "    </tr>\n",
       "  </thead>\n",
       "  <tbody>\n",
       "    <tr>\n",
       "      <th>1</th>\n",
       "      <td>0.083333</td>\n",
       "    </tr>\n",
       "    <tr>\n",
       "      <th>2</th>\n",
       "      <td>0.084167</td>\n",
       "    </tr>\n",
       "    <tr>\n",
       "      <th>3</th>\n",
       "      <td>0.081948</td>\n",
       "    </tr>\n",
       "    <tr>\n",
       "      <th>4</th>\n",
       "      <td>0.084338</td>\n",
       "    </tr>\n",
       "    <tr>\n",
       "      <th>5</th>\n",
       "      <td>0.078913</td>\n",
       "    </tr>\n",
       "    <tr>\n",
       "      <th>6</th>\n",
       "      <td>0.081308</td>\n",
       "    </tr>\n",
       "    <tr>\n",
       "      <th>7</th>\n",
       "      <td>0.081419</td>\n",
       "    </tr>\n",
       "    <tr>\n",
       "      <th>8</th>\n",
       "      <td>0.080142</td>\n",
       "    </tr>\n",
       "    <tr>\n",
       "      <th>9</th>\n",
       "      <td>0.083015</td>\n",
       "    </tr>\n",
       "    <tr>\n",
       "      <th>10</th>\n",
       "      <td>0.085132</td>\n",
       "    </tr>\n",
       "    <tr>\n",
       "      <th>11</th>\n",
       "      <td>0.078528</td>\n",
       "    </tr>\n",
       "    <tr>\n",
       "      <th>12</th>\n",
       "      <td>0.080556</td>\n",
       "    </tr>\n",
       "    <tr>\n",
       "      <th>13</th>\n",
       "      <td>0.069620</td>\n",
       "    </tr>\n",
       "    <tr>\n",
       "      <th>14</th>\n",
       "      <td>0.063830</td>\n",
       "    </tr>\n",
       "    <tr>\n",
       "      <th>15</th>\n",
       "      <td>0.085227</td>\n",
       "    </tr>\n",
       "    <tr>\n",
       "      <th>16</th>\n",
       "      <td>0.090909</td>\n",
       "    </tr>\n",
       "    <tr>\n",
       "      <th>17</th>\n",
       "      <td>0.000000</td>\n",
       "    </tr>\n",
       "    <tr>\n",
       "      <th>18</th>\n",
       "      <td>0.000000</td>\n",
       "    </tr>\n",
       "  </tbody>\n",
       "</table>\n",
       "</div>"
      ],
      "text/plain": [
       "            call\n",
       "inning          \n",
       "1       0.083333\n",
       "2       0.084167\n",
       "3       0.081948\n",
       "4       0.084338\n",
       "5       0.078913\n",
       "6       0.081308\n",
       "7       0.081419\n",
       "8       0.080142\n",
       "9       0.083015\n",
       "10      0.085132\n",
       "11      0.078528\n",
       "12      0.080556\n",
       "13      0.069620\n",
       "14      0.063830\n",
       "15      0.085227\n",
       "16      0.090909\n",
       "17      0.000000\n",
       "18      0.000000"
      ]
     },
     "metadata": {},
     "output_type": "display_data"
    }
   ],
   "source": [
    "#2018\n",
    "df2018 = df[[\"call\",\"inning\"]].loc[df[\"game_year\"] ==2018]\n",
    "display(df2018['call'].value_counts())\n",
    "display(df2018.groupby(\"inning\").mean())\n",
    "#year 2018, best inning at 5, worst inning at 4"
   ]
  },
  {
   "cell_type": "code",
   "execution_count": 27,
   "id": "75555bce",
   "metadata": {},
   "outputs": [
    {
     "data": {
      "text/plain": [
       "call\n",
       "0       40337\n",
       "1        3667\n",
       "dtype: int64"
      ]
     },
     "metadata": {},
     "output_type": "display_data"
    },
    {
     "data": {
      "text/plain": [
       "call\n",
       "0       37921\n",
       "1        3485\n",
       "dtype: int64"
      ]
     },
     "metadata": {},
     "output_type": "display_data"
    },
    {
     "data": {
      "text/plain": [
       "call\n",
       "0       37832\n",
       "1        3377\n",
       "dtype: int64"
      ]
     },
     "metadata": {},
     "output_type": "display_data"
    },
    {
     "data": {
      "text/plain": [
       "'BCR at early game'"
      ]
     },
     "metadata": {},
     "output_type": "display_data"
    },
    {
     "data": {
      "text/plain": [
       "0.08315497674124736"
      ]
     },
     "metadata": {},
     "output_type": "display_data"
    },
    {
     "data": {
      "text/plain": [
       "call\n",
       "0       36675\n",
       "1        3378\n",
       "dtype: int64"
      ]
     },
     "metadata": {},
     "output_type": "display_data"
    },
    {
     "data": {
      "text/plain": [
       "call\n",
       "0       36896\n",
       "1        3161\n",
       "dtype: int64"
      ]
     },
     "metadata": {},
     "output_type": "display_data"
    },
    {
     "data": {
      "text/plain": [
       "call\n",
       "0       36936\n",
       "1        3269\n",
       "dtype: int64"
      ]
     },
     "metadata": {},
     "output_type": "display_data"
    },
    {
     "data": {
      "text/plain": [
       "'BCR at mid game'"
      ]
     },
     "metadata": {},
     "output_type": "display_data"
    },
    {
     "data": {
      "text/plain": [
       "0.08151934505257033"
      ]
     },
     "metadata": {},
     "output_type": "display_data"
    },
    {
     "data": {
      "text/plain": [
       "call\n",
       "0       37423\n",
       "1        3317\n",
       "dtype: int64"
      ]
     },
     "metadata": {},
     "output_type": "display_data"
    },
    {
     "data": {
      "text/plain": [
       "call\n",
       "0       37877\n",
       "1        3300\n",
       "dtype: int64"
      ]
     },
     "metadata": {},
     "output_type": "display_data"
    },
    {
     "data": {
      "text/plain": [
       "call\n",
       "0       28554\n",
       "1        2585\n",
       "dtype: int64"
      ]
     },
     "metadata": {},
     "output_type": "display_data"
    },
    {
     "data": {
      "text/plain": [
       "'BCR at end game'"
      ]
     },
     "metadata": {},
     "output_type": "display_data"
    },
    {
     "data": {
      "text/plain": [
       "0.08139329181998302"
      ]
     },
     "execution_count": 27,
     "metadata": {},
     "output_type": "execute_result"
    }
   ],
   "source": [
    "inn1 = df2018[[\"call\"]].loc[df2018[\"inning\"] == 1]\n",
    "inn2 = df2018[[\"call\"]].loc[df2018[\"inning\"] == 2]\n",
    "inn3 = df2018[[\"call\"]].loc[df2018[\"inning\"] == 3]\n",
    "display(inn1.value_counts())\n",
    "display(inn2.value_counts())\n",
    "display(inn3.value_counts())\n",
    "display(\"BCR at early game\")\n",
    "display((3667+3485+3377)/ (len(inn1)+len(inn2)+len(inn3)))\n",
    "\n",
    "inn4 = df2018[[\"call\"]].loc[df2018[\"inning\"] == 4]\n",
    "inn5 = df2018[[\"call\"]].loc[df2018[\"inning\"] == 5]\n",
    "inn6 = df2018[[\"call\"]].loc[df2018[\"inning\"] == 6]\n",
    "display(inn4.value_counts())\n",
    "display(inn5.value_counts())\n",
    "display(inn6.value_counts())\n",
    "display(\"BCR at mid game\")\n",
    "display((3378+3161+3269)/ (len(inn4)+len(inn5)+len(inn6)))\n",
    "\n",
    "inn7 = df2018[[\"call\"]].loc[df2018[\"inning\"] == 7]\n",
    "inn8 = df2018[[\"call\"]].loc[df2018[\"inning\"] == 8]\n",
    "inn9 = df2018[[\"call\"]].loc[df2018[\"inning\"] == 9]\n",
    "display(inn7.value_counts())\n",
    "display(inn8.value_counts())\n",
    "display(inn9.value_counts())\n",
    "display(\"BCR at end game\")\n",
    "(3317+3300+2585)/ (len(inn7)+len(inn8)+len(inn9))"
   ]
  },
  {
   "cell_type": "code",
   "execution_count": 28,
   "id": "d58cfc6b",
   "metadata": {},
   "outputs": [
    {
     "data": {
      "text/plain": [
       "0    343063\n",
       "1     29282\n",
       "Name: call, dtype: int64"
      ]
     },
     "metadata": {},
     "output_type": "display_data"
    },
    {
     "data": {
      "text/html": [
       "<div>\n",
       "<style scoped>\n",
       "    .dataframe tbody tr th:only-of-type {\n",
       "        vertical-align: middle;\n",
       "    }\n",
       "\n",
       "    .dataframe tbody tr th {\n",
       "        vertical-align: top;\n",
       "    }\n",
       "\n",
       "    .dataframe thead th {\n",
       "        text-align: right;\n",
       "    }\n",
       "</style>\n",
       "<table border=\"1\" class=\"dataframe\">\n",
       "  <thead>\n",
       "    <tr style=\"text-align: right;\">\n",
       "      <th></th>\n",
       "      <th>call</th>\n",
       "    </tr>\n",
       "    <tr>\n",
       "      <th>inning</th>\n",
       "      <th></th>\n",
       "    </tr>\n",
       "  </thead>\n",
       "  <tbody>\n",
       "    <tr>\n",
       "      <th>1</th>\n",
       "      <td>0.079823</td>\n",
       "    </tr>\n",
       "    <tr>\n",
       "      <th>2</th>\n",
       "      <td>0.076490</td>\n",
       "    </tr>\n",
       "    <tr>\n",
       "      <th>3</th>\n",
       "      <td>0.081113</td>\n",
       "    </tr>\n",
       "    <tr>\n",
       "      <th>4</th>\n",
       "      <td>0.081515</td>\n",
       "    </tr>\n",
       "    <tr>\n",
       "      <th>5</th>\n",
       "      <td>0.078039</td>\n",
       "    </tr>\n",
       "    <tr>\n",
       "      <th>6</th>\n",
       "      <td>0.077370</td>\n",
       "    </tr>\n",
       "    <tr>\n",
       "      <th>7</th>\n",
       "      <td>0.081193</td>\n",
       "    </tr>\n",
       "    <tr>\n",
       "      <th>8</th>\n",
       "      <td>0.076818</td>\n",
       "    </tr>\n",
       "    <tr>\n",
       "      <th>9</th>\n",
       "      <td>0.075301</td>\n",
       "    </tr>\n",
       "    <tr>\n",
       "      <th>10</th>\n",
       "      <td>0.070916</td>\n",
       "    </tr>\n",
       "    <tr>\n",
       "      <th>11</th>\n",
       "      <td>0.082606</td>\n",
       "    </tr>\n",
       "    <tr>\n",
       "      <th>12</th>\n",
       "      <td>0.085246</td>\n",
       "    </tr>\n",
       "    <tr>\n",
       "      <th>13</th>\n",
       "      <td>0.072491</td>\n",
       "    </tr>\n",
       "    <tr>\n",
       "      <th>14</th>\n",
       "      <td>0.052219</td>\n",
       "    </tr>\n",
       "    <tr>\n",
       "      <th>15</th>\n",
       "      <td>0.064378</td>\n",
       "    </tr>\n",
       "    <tr>\n",
       "      <th>16</th>\n",
       "      <td>0.117021</td>\n",
       "    </tr>\n",
       "    <tr>\n",
       "      <th>17</th>\n",
       "      <td>0.017544</td>\n",
       "    </tr>\n",
       "    <tr>\n",
       "      <th>18</th>\n",
       "      <td>0.104478</td>\n",
       "    </tr>\n",
       "    <tr>\n",
       "      <th>19</th>\n",
       "      <td>0.066667</td>\n",
       "    </tr>\n",
       "  </tbody>\n",
       "</table>\n",
       "</div>"
      ],
      "text/plain": [
       "            call\n",
       "inning          \n",
       "1       0.079823\n",
       "2       0.076490\n",
       "3       0.081113\n",
       "4       0.081515\n",
       "5       0.078039\n",
       "6       0.077370\n",
       "7       0.081193\n",
       "8       0.076818\n",
       "9       0.075301\n",
       "10      0.070916\n",
       "11      0.082606\n",
       "12      0.085246\n",
       "13      0.072491\n",
       "14      0.052219\n",
       "15      0.064378\n",
       "16      0.117021\n",
       "17      0.017544\n",
       "18      0.104478\n",
       "19      0.066667"
      ]
     },
     "metadata": {},
     "output_type": "display_data"
    }
   ],
   "source": [
    "#2019\n",
    "df2019 = df[[\"call\",\"inning\"]].loc[df[\"game_year\"] ==2019]\n",
    "display(df2019['call'].value_counts())\n",
    "display(df2019.groupby(\"inning\").mean())\n",
    "#year 2019, best inning at 9, worst inning at 3"
   ]
  },
  {
   "cell_type": "code",
   "execution_count": 29,
   "id": "e88301e1",
   "metadata": {},
   "outputs": [
    {
     "data": {
      "text/plain": [
       "call\n",
       "0       40416\n",
       "1        3506\n",
       "dtype: int64"
      ]
     },
     "metadata": {},
     "output_type": "display_data"
    },
    {
     "data": {
      "text/plain": [
       "call\n",
       "0       38515\n",
       "1        3190\n",
       "dtype: int64"
      ]
     },
     "metadata": {},
     "output_type": "display_data"
    },
    {
     "data": {
      "text/plain": [
       "call\n",
       "0       38517\n",
       "1        3400\n",
       "dtype: int64"
      ]
     },
     "metadata": {},
     "output_type": "display_data"
    },
    {
     "data": {
      "text/plain": [
       "'BCR at early game'"
      ]
     },
     "metadata": {},
     "output_type": "display_data"
    },
    {
     "data": {
      "text/plain": [
       "0.07915699680110393"
      ]
     },
     "metadata": {},
     "output_type": "display_data"
    },
    {
     "data": {
      "text/plain": [
       "call\n",
       "0       36868\n",
       "1        3272\n",
       "dtype: int64"
      ]
     },
     "metadata": {},
     "output_type": "display_data"
    },
    {
     "data": {
      "text/plain": [
       "call\n",
       "0       37120\n",
       "1        3142\n",
       "dtype: int64"
      ]
     },
     "metadata": {},
     "output_type": "display_data"
    },
    {
     "data": {
      "text/plain": [
       "call\n",
       "0       38243\n",
       "1        3207\n",
       "dtype: int64"
      ]
     },
     "metadata": {},
     "output_type": "display_data"
    },
    {
     "data": {
      "text/plain": [
       "'BCR at mid game'"
      ]
     },
     "metadata": {},
     "output_type": "display_data"
    },
    {
     "data": {
      "text/plain": [
       "0.07895643895873683"
      ]
     },
     "metadata": {},
     "output_type": "display_data"
    },
    {
     "data": {
      "text/plain": [
       "call\n",
       "0       38215\n",
       "1        3377\n",
       "dtype: int64"
      ]
     },
     "metadata": {},
     "output_type": "display_data"
    },
    {
     "data": {
      "text/plain": [
       "call\n",
       "0       38637\n",
       "1        3215\n",
       "dtype: int64"
      ]
     },
     "metadata": {},
     "output_type": "display_data"
    },
    {
     "data": {
      "text/plain": [
       "call\n",
       "0       29509\n",
       "1        2403\n",
       "dtype: int64"
      ]
     },
     "metadata": {},
     "output_type": "display_data"
    },
    {
     "data": {
      "text/plain": [
       "'BCR at end game'"
      ]
     },
     "metadata": {},
     "output_type": "display_data"
    },
    {
     "data": {
      "text/plain": [
       "0.0779760047158362"
      ]
     },
     "execution_count": 29,
     "metadata": {},
     "output_type": "execute_result"
    }
   ],
   "source": [
    "inn1 = df2019[[\"call\"]].loc[df2019[\"inning\"] == 1]\n",
    "inn2 = df2019[[\"call\"]].loc[df2019[\"inning\"] == 2]\n",
    "inn3 = df2019[[\"call\"]].loc[df2019[\"inning\"] == 3]\n",
    "display(inn1.value_counts())\n",
    "display(inn2.value_counts())\n",
    "display(inn3.value_counts())\n",
    "display(\"BCR at early game\")\n",
    "display((3506+3190+3400)/ (len(inn1)+len(inn2)+len(inn3)))\n",
    "\n",
    "inn4 = df2019[[\"call\"]].loc[df2019[\"inning\"] == 4]\n",
    "inn5 = df2019[[\"call\"]].loc[df2019[\"inning\"] == 5]\n",
    "inn6 = df2019[[\"call\"]].loc[df2019[\"inning\"] == 6]\n",
    "display(inn4.value_counts())\n",
    "display(inn5.value_counts())\n",
    "display(inn6.value_counts())\n",
    "display(\"BCR at mid game\")\n",
    "display((3272+3142+3207)/ (len(inn4)+len(inn5)+len(inn6)))\n",
    "\n",
    "inn7 = df2019[[\"call\"]].loc[df2019[\"inning\"] == 7]\n",
    "inn8 = df2019[[\"call\"]].loc[df2019[\"inning\"] == 8]\n",
    "inn9 = df2019[[\"call\"]].loc[df2019[\"inning\"] == 9]\n",
    "display(inn7.value_counts())\n",
    "display(inn8.value_counts())\n",
    "display(inn9.value_counts())\n",
    "display(\"BCR at end game\")\n",
    "(3377+3215+2403)/ (len(inn7)+len(inn8)+len(inn9))"
   ]
  },
  {
   "cell_type": "code",
   "execution_count": 30,
   "id": "a65e7735",
   "metadata": {},
   "outputs": [
    {
     "data": {
      "text/plain": [
       "0    131538\n",
       "1     10837\n",
       "Name: call, dtype: int64"
      ]
     },
     "metadata": {},
     "output_type": "display_data"
    },
    {
     "data": {
      "text/html": [
       "<div>\n",
       "<style scoped>\n",
       "    .dataframe tbody tr th:only-of-type {\n",
       "        vertical-align: middle;\n",
       "    }\n",
       "\n",
       "    .dataframe tbody tr th {\n",
       "        vertical-align: top;\n",
       "    }\n",
       "\n",
       "    .dataframe thead th {\n",
       "        text-align: right;\n",
       "    }\n",
       "</style>\n",
       "<table border=\"1\" class=\"dataframe\">\n",
       "  <thead>\n",
       "    <tr style=\"text-align: right;\">\n",
       "      <th></th>\n",
       "      <th>call</th>\n",
       "    </tr>\n",
       "    <tr>\n",
       "      <th>inning</th>\n",
       "      <th></th>\n",
       "    </tr>\n",
       "  </thead>\n",
       "  <tbody>\n",
       "    <tr>\n",
       "      <th>1</th>\n",
       "      <td>0.075932</td>\n",
       "    </tr>\n",
       "    <tr>\n",
       "      <th>2</th>\n",
       "      <td>0.078592</td>\n",
       "    </tr>\n",
       "    <tr>\n",
       "      <th>3</th>\n",
       "      <td>0.080460</td>\n",
       "    </tr>\n",
       "    <tr>\n",
       "      <th>4</th>\n",
       "      <td>0.075957</td>\n",
       "    </tr>\n",
       "    <tr>\n",
       "      <th>5</th>\n",
       "      <td>0.074887</td>\n",
       "    </tr>\n",
       "    <tr>\n",
       "      <th>6</th>\n",
       "      <td>0.073659</td>\n",
       "    </tr>\n",
       "    <tr>\n",
       "      <th>7</th>\n",
       "      <td>0.077966</td>\n",
       "    </tr>\n",
       "    <tr>\n",
       "      <th>8</th>\n",
       "      <td>0.070745</td>\n",
       "    </tr>\n",
       "    <tr>\n",
       "      <th>9</th>\n",
       "      <td>0.075687</td>\n",
       "    </tr>\n",
       "    <tr>\n",
       "      <th>10</th>\n",
       "      <td>0.078893</td>\n",
       "    </tr>\n",
       "    <tr>\n",
       "      <th>11</th>\n",
       "      <td>0.092527</td>\n",
       "    </tr>\n",
       "    <tr>\n",
       "      <th>12</th>\n",
       "      <td>0.093023</td>\n",
       "    </tr>\n",
       "    <tr>\n",
       "      <th>13</th>\n",
       "      <td>0.040816</td>\n",
       "    </tr>\n",
       "  </tbody>\n",
       "</table>\n",
       "</div>"
      ],
      "text/plain": [
       "            call\n",
       "inning          \n",
       "1       0.075932\n",
       "2       0.078592\n",
       "3       0.080460\n",
       "4       0.075957\n",
       "5       0.074887\n",
       "6       0.073659\n",
       "7       0.077966\n",
       "8       0.070745\n",
       "9       0.075687\n",
       "10      0.078893\n",
       "11      0.092527\n",
       "12      0.093023\n",
       "13      0.040816"
      ]
     },
     "metadata": {},
     "output_type": "display_data"
    }
   ],
   "source": [
    "#2020\n",
    "df2020 = df[[\"call\",\"inning\"]].loc[df[\"game_year\"] ==2020]\n",
    "display(df2020['call'].value_counts())\n",
    "display(df2020.groupby(\"inning\").mean())\n",
    "#year 2020, best inning at 8, worst inning at 3"
   ]
  },
  {
   "cell_type": "code",
   "execution_count": 31,
   "id": "dcdc1da1",
   "metadata": {},
   "outputs": [
    {
     "data": {
      "text/plain": [
       "call\n",
       "0       15930\n",
       "1        1309\n",
       "dtype: int64"
      ]
     },
     "metadata": {},
     "output_type": "display_data"
    },
    {
     "data": {
      "text/plain": [
       "call\n",
       "0       15030\n",
       "1        1282\n",
       "dtype: int64"
      ]
     },
     "metadata": {},
     "output_type": "display_data"
    },
    {
     "data": {
      "text/plain": [
       "call\n",
       "0       15360\n",
       "1        1344\n",
       "dtype: int64"
      ]
     },
     "metadata": {},
     "output_type": "display_data"
    },
    {
     "data": {
      "text/plain": [
       "'BCR at early game'"
      ]
     },
     "metadata": {},
     "output_type": "display_data"
    },
    {
     "data": {
      "text/plain": [
       "0.07830066660033827"
      ]
     },
     "metadata": {},
     "output_type": "display_data"
    },
    {
     "data": {
      "text/plain": [
       "call\n",
       "0       15085\n",
       "1        1240\n",
       "dtype: int64"
      ]
     },
     "metadata": {},
     "output_type": "display_data"
    },
    {
     "data": {
      "text/plain": [
       "call\n",
       "0       14997\n",
       "1        1214\n",
       "dtype: int64"
      ]
     },
     "metadata": {},
     "output_type": "display_data"
    },
    {
     "data": {
      "text/plain": [
       "call\n",
       "0       15305\n",
       "1        1217\n",
       "dtype: int64"
      ]
     },
     "metadata": {},
     "output_type": "display_data"
    },
    {
     "data": {
      "text/plain": [
       "'BCR at mid game'"
      ]
     },
     "metadata": {},
     "output_type": "display_data"
    },
    {
     "data": {
      "text/plain": [
       "0.07482979330588284"
      ]
     },
     "metadata": {},
     "output_type": "display_data"
    },
    {
     "data": {
      "text/plain": [
       "call\n",
       "0       14960\n",
       "1        1265\n",
       "dtype: int64"
      ]
     },
     "metadata": {},
     "output_type": "display_data"
    },
    {
     "data": {
      "text/plain": [
       "call\n",
       "0       13700\n",
       "1        1043\n",
       "dtype: int64"
      ]
     },
     "metadata": {},
     "output_type": "display_data"
    },
    {
     "data": {
      "text/plain": [
       "call\n",
       "0       9892\n",
       "1        810\n",
       "dtype: int64"
      ]
     },
     "metadata": {},
     "output_type": "display_data"
    },
    {
     "data": {
      "text/plain": [
       "'BCR at end game'"
      ]
     },
     "metadata": {},
     "output_type": "display_data"
    },
    {
     "data": {
      "text/plain": [
       "0.07482601391888649"
      ]
     },
     "execution_count": 31,
     "metadata": {},
     "output_type": "execute_result"
    }
   ],
   "source": [
    "inn1 = df2020[[\"call\"]].loc[df2020[\"inning\"] == 1]\n",
    "inn2 = df2020[[\"call\"]].loc[df2020[\"inning\"] == 2]\n",
    "inn3 = df2020[[\"call\"]].loc[df2020[\"inning\"] == 3]\n",
    "display(inn1.value_counts())\n",
    "display(inn2.value_counts())\n",
    "display(inn3.value_counts())\n",
    "display(\"BCR at early game\")\n",
    "display((1309+1282+1344)/ (len(inn1)+len(inn2)+len(inn3)))\n",
    "\n",
    "inn4 = df2020[[\"call\"]].loc[df2020[\"inning\"] == 4]\n",
    "inn5 = df2020[[\"call\"]].loc[df2020[\"inning\"] == 5]\n",
    "inn6 = df2020[[\"call\"]].loc[df2020[\"inning\"] == 6]\n",
    "display(inn4.value_counts())\n",
    "display(inn5.value_counts())\n",
    "display(inn6.value_counts())\n",
    "display(\"BCR at mid game\")\n",
    "display((1240+1214+1217)/ (len(inn4)+len(inn5)+len(inn6)))\n",
    "\n",
    "inn7 = df2020[[\"call\"]].loc[df2020[\"inning\"] == 7]\n",
    "inn8 = df2020[[\"call\"]].loc[df2020[\"inning\"] == 8]\n",
    "inn9 = df2020[[\"call\"]].loc[df2020[\"inning\"] == 9]\n",
    "display(inn7.value_counts())\n",
    "display(inn8.value_counts())\n",
    "display(inn9.value_counts())\n",
    "display(\"BCR at end game\")\n",
    "(1265+1043+810)/ (len(inn7)+len(inn8)+len(inn9))"
   ]
  },
  {
   "cell_type": "code",
   "execution_count": 32,
   "id": "3e4a3deb",
   "metadata": {},
   "outputs": [
    {
     "data": {
      "text/plain": [
       "0    343705\n",
       "1     27101\n",
       "Name: call, dtype: int64"
      ]
     },
     "metadata": {},
     "output_type": "display_data"
    },
    {
     "data": {
      "text/html": [
       "<div>\n",
       "<style scoped>\n",
       "    .dataframe tbody tr th:only-of-type {\n",
       "        vertical-align: middle;\n",
       "    }\n",
       "\n",
       "    .dataframe tbody tr th {\n",
       "        vertical-align: top;\n",
       "    }\n",
       "\n",
       "    .dataframe thead th {\n",
       "        text-align: right;\n",
       "    }\n",
       "</style>\n",
       "<table border=\"1\" class=\"dataframe\">\n",
       "  <thead>\n",
       "    <tr style=\"text-align: right;\">\n",
       "      <th></th>\n",
       "      <th>call</th>\n",
       "    </tr>\n",
       "    <tr>\n",
       "      <th>inning</th>\n",
       "      <th></th>\n",
       "    </tr>\n",
       "  </thead>\n",
       "  <tbody>\n",
       "    <tr>\n",
       "      <th>1</th>\n",
       "      <td>0.075249</td>\n",
       "    </tr>\n",
       "    <tr>\n",
       "      <th>2</th>\n",
       "      <td>0.073264</td>\n",
       "    </tr>\n",
       "    <tr>\n",
       "      <th>3</th>\n",
       "      <td>0.073749</td>\n",
       "    </tr>\n",
       "    <tr>\n",
       "      <th>4</th>\n",
       "      <td>0.073336</td>\n",
       "    </tr>\n",
       "    <tr>\n",
       "      <th>5</th>\n",
       "      <td>0.071288</td>\n",
       "    </tr>\n",
       "    <tr>\n",
       "      <th>6</th>\n",
       "      <td>0.072558</td>\n",
       "    </tr>\n",
       "    <tr>\n",
       "      <th>7</th>\n",
       "      <td>0.072860</td>\n",
       "    </tr>\n",
       "    <tr>\n",
       "      <th>8</th>\n",
       "      <td>0.072642</td>\n",
       "    </tr>\n",
       "    <tr>\n",
       "      <th>9</th>\n",
       "      <td>0.073497</td>\n",
       "    </tr>\n",
       "    <tr>\n",
       "      <th>10</th>\n",
       "      <td>0.070088</td>\n",
       "    </tr>\n",
       "    <tr>\n",
       "      <th>11</th>\n",
       "      <td>0.056064</td>\n",
       "    </tr>\n",
       "    <tr>\n",
       "      <th>12</th>\n",
       "      <td>0.066351</td>\n",
       "    </tr>\n",
       "    <tr>\n",
       "      <th>13</th>\n",
       "      <td>0.017544</td>\n",
       "    </tr>\n",
       "    <tr>\n",
       "      <th>14</th>\n",
       "      <td>0.000000</td>\n",
       "    </tr>\n",
       "    <tr>\n",
       "      <th>15</th>\n",
       "      <td>0.111111</td>\n",
       "    </tr>\n",
       "    <tr>\n",
       "      <th>16</th>\n",
       "      <td>0.062500</td>\n",
       "    </tr>\n",
       "  </tbody>\n",
       "</table>\n",
       "</div>"
      ],
      "text/plain": [
       "            call\n",
       "inning          \n",
       "1       0.075249\n",
       "2       0.073264\n",
       "3       0.073749\n",
       "4       0.073336\n",
       "5       0.071288\n",
       "6       0.072558\n",
       "7       0.072860\n",
       "8       0.072642\n",
       "9       0.073497\n",
       "10      0.070088\n",
       "11      0.056064\n",
       "12      0.066351\n",
       "13      0.017544\n",
       "14      0.000000\n",
       "15      0.111111\n",
       "16      0.062500"
      ]
     },
     "metadata": {},
     "output_type": "display_data"
    }
   ],
   "source": [
    "#2021\n",
    "df2021 = df[[\"call\",\"inning\"]].loc[df[\"game_year\"] ==2021]\n",
    "display(df2021['call'].value_counts())\n",
    "display(df2021.groupby(\"inning\").mean())\n",
    "#year 2021, best inning at 5, worst inning at 1"
   ]
  },
  {
   "cell_type": "code",
   "execution_count": 33,
   "id": "8f9a6c05",
   "metadata": {},
   "outputs": [
    {
     "data": {
      "text/plain": [
       "call\n",
       "0       40628\n",
       "1        3306\n",
       "dtype: int64"
      ]
     },
     "metadata": {},
     "output_type": "display_data"
    },
    {
     "data": {
      "text/plain": [
       "call\n",
       "0       39301\n",
       "1        3107\n",
       "dtype: int64"
      ]
     },
     "metadata": {},
     "output_type": "display_data"
    },
    {
     "data": {
      "text/plain": [
       "call\n",
       "0       38947\n",
       "1        3101\n",
       "dtype: int64"
      ]
     },
     "metadata": {},
     "output_type": "display_data"
    },
    {
     "data": {
      "text/plain": [
       "'BCR at early game'"
      ]
     },
     "metadata": {},
     "output_type": "display_data"
    },
    {
     "data": {
      "text/plain": [
       "0.07410234441934731"
      ]
     },
     "metadata": {},
     "output_type": "display_data"
    },
    {
     "data": {
      "text/plain": [
       "call\n",
       "0       38110\n",
       "1        3016\n",
       "dtype: int64"
      ]
     },
     "metadata": {},
     "output_type": "display_data"
    },
    {
     "data": {
      "text/plain": [
       "call\n",
       "0       38614\n",
       "1        2964\n",
       "dtype: int64"
      ]
     },
     "metadata": {},
     "output_type": "display_data"
    },
    {
     "data": {
      "text/plain": [
       "call\n",
       "0       39062\n",
       "1        3056\n",
       "dtype: int64"
      ]
     },
     "metadata": {},
     "output_type": "display_data"
    },
    {
     "data": {
      "text/plain": [
       "'BCR at mid game'"
      ]
     },
     "metadata": {},
     "output_type": "display_data"
    },
    {
     "data": {
      "text/plain": [
       "0.07239108490490459"
      ]
     },
     "metadata": {},
     "output_type": "display_data"
    },
    {
     "data": {
      "text/plain": [
       "call\n",
       "0       38964\n",
       "1        3062\n",
       "dtype: int64"
      ]
     },
     "metadata": {},
     "output_type": "display_data"
    },
    {
     "data": {
      "text/plain": [
       "call\n",
       "0       38375\n",
       "1        3006\n",
       "dtype: int64"
      ]
     },
     "metadata": {},
     "output_type": "display_data"
    },
    {
     "data": {
      "text/plain": [
       "call\n",
       "0       27960\n",
       "1        2218\n",
       "dtype: int64"
      ]
     },
     "metadata": {},
     "output_type": "display_data"
    },
    {
     "data": {
      "text/plain": [
       "'BCR at end game'"
      ]
     },
     "metadata": {},
     "output_type": "display_data"
    },
    {
     "data": {
      "text/plain": [
       "0.07294977329753048"
      ]
     },
     "execution_count": 33,
     "metadata": {},
     "output_type": "execute_result"
    }
   ],
   "source": [
    "inn1 = df2021[[\"call\"]].loc[df2021[\"inning\"] == 1]\n",
    "inn2 = df2021[[\"call\"]].loc[df2021[\"inning\"] == 2]\n",
    "inn3 = df2021[[\"call\"]].loc[df2021[\"inning\"] == 3]\n",
    "display(inn1.value_counts())\n",
    "display(inn2.value_counts())\n",
    "display(inn3.value_counts())\n",
    "display(\"BCR at early game\")\n",
    "display((3306+3107+3101)/ (len(inn1)+len(inn2)+len(inn3)))\n",
    "\n",
    "inn4 = df2021[[\"call\"]].loc[df2021[\"inning\"] == 4]\n",
    "inn5 = df2021[[\"call\"]].loc[df2021[\"inning\"] == 5]\n",
    "inn6 = df2021[[\"call\"]].loc[df2021[\"inning\"] == 6]\n",
    "display(inn4.value_counts())\n",
    "display(inn5.value_counts())\n",
    "display(inn6.value_counts())\n",
    "display(\"BCR at mid game\")\n",
    "display((3016+2964+3056)/ (len(inn4)+len(inn5)+len(inn6)))\n",
    "\n",
    "inn7 = df2021[[\"call\"]].loc[df2021[\"inning\"] == 7]\n",
    "inn8 = df2021[[\"call\"]].loc[df2021[\"inning\"] == 8]\n",
    "inn9 = df2021[[\"call\"]].loc[df2021[\"inning\"] == 9]\n",
    "display(inn7.value_counts())\n",
    "display(inn8.value_counts())\n",
    "display(inn9.value_counts())\n",
    "display(\"BCR at end game\")\n",
    "(3062+3006+2218)/ (len(inn7)+len(inn8)+len(inn9))"
   ]
  },
  {
   "cell_type": "code",
   "execution_count": 34,
   "id": "9a83011d",
   "metadata": {},
   "outputs": [
    {
     "data": {
      "text/plain": [
       "0    345250\n",
       "1     25996\n",
       "Name: call, dtype: int64"
      ]
     },
     "metadata": {},
     "output_type": "display_data"
    },
    {
     "data": {
      "text/html": [
       "<div>\n",
       "<style scoped>\n",
       "    .dataframe tbody tr th:only-of-type {\n",
       "        vertical-align: middle;\n",
       "    }\n",
       "\n",
       "    .dataframe tbody tr th {\n",
       "        vertical-align: top;\n",
       "    }\n",
       "\n",
       "    .dataframe thead th {\n",
       "        text-align: right;\n",
       "    }\n",
       "</style>\n",
       "<table border=\"1\" class=\"dataframe\">\n",
       "  <thead>\n",
       "    <tr style=\"text-align: right;\">\n",
       "      <th></th>\n",
       "      <th>call</th>\n",
       "    </tr>\n",
       "    <tr>\n",
       "      <th>inning</th>\n",
       "      <th></th>\n",
       "    </tr>\n",
       "  </thead>\n",
       "  <tbody>\n",
       "    <tr>\n",
       "      <th>1</th>\n",
       "      <td>0.070890</td>\n",
       "    </tr>\n",
       "    <tr>\n",
       "      <th>2</th>\n",
       "      <td>0.068208</td>\n",
       "    </tr>\n",
       "    <tr>\n",
       "      <th>3</th>\n",
       "      <td>0.068725</td>\n",
       "    </tr>\n",
       "    <tr>\n",
       "      <th>4</th>\n",
       "      <td>0.072802</td>\n",
       "    </tr>\n",
       "    <tr>\n",
       "      <th>5</th>\n",
       "      <td>0.070860</td>\n",
       "    </tr>\n",
       "    <tr>\n",
       "      <th>6</th>\n",
       "      <td>0.068931</td>\n",
       "    </tr>\n",
       "    <tr>\n",
       "      <th>7</th>\n",
       "      <td>0.069141</td>\n",
       "    </tr>\n",
       "    <tr>\n",
       "      <th>8</th>\n",
       "      <td>0.070881</td>\n",
       "    </tr>\n",
       "    <tr>\n",
       "      <th>9</th>\n",
       "      <td>0.069905</td>\n",
       "    </tr>\n",
       "    <tr>\n",
       "      <th>10</th>\n",
       "      <td>0.064921</td>\n",
       "    </tr>\n",
       "    <tr>\n",
       "      <th>11</th>\n",
       "      <td>0.071713</td>\n",
       "    </tr>\n",
       "    <tr>\n",
       "      <th>12</th>\n",
       "      <td>0.086420</td>\n",
       "    </tr>\n",
       "    <tr>\n",
       "      <th>13</th>\n",
       "      <td>0.102804</td>\n",
       "    </tr>\n",
       "    <tr>\n",
       "      <th>14</th>\n",
       "      <td>0.038462</td>\n",
       "    </tr>\n",
       "    <tr>\n",
       "      <th>15</th>\n",
       "      <td>0.176471</td>\n",
       "    </tr>\n",
       "    <tr>\n",
       "      <th>16</th>\n",
       "      <td>0.000000</td>\n",
       "    </tr>\n",
       "    <tr>\n",
       "      <th>17</th>\n",
       "      <td>0.090909</td>\n",
       "    </tr>\n",
       "    <tr>\n",
       "      <th>18</th>\n",
       "      <td>0.153846</td>\n",
       "    </tr>\n",
       "  </tbody>\n",
       "</table>\n",
       "</div>"
      ],
      "text/plain": [
       "            call\n",
       "inning          \n",
       "1       0.070890\n",
       "2       0.068208\n",
       "3       0.068725\n",
       "4       0.072802\n",
       "5       0.070860\n",
       "6       0.068931\n",
       "7       0.069141\n",
       "8       0.070881\n",
       "9       0.069905\n",
       "10      0.064921\n",
       "11      0.071713\n",
       "12      0.086420\n",
       "13      0.102804\n",
       "14      0.038462\n",
       "15      0.176471\n",
       "16      0.000000\n",
       "17      0.090909\n",
       "18      0.153846"
      ]
     },
     "metadata": {},
     "output_type": "display_data"
    }
   ],
   "source": [
    "#2022\n",
    "df2022 = df[[\"call\",\"inning\"]].loc[df[\"game_year\"] ==2022]\n",
    "display(df2022['call'].value_counts())\n",
    "display(df2022.groupby(\"inning\").mean())\n",
    "#year 2022, best inning at 6, worst inning at 4"
   ]
  },
  {
   "cell_type": "code",
   "execution_count": 35,
   "id": "40e7d7b4",
   "metadata": {},
   "outputs": [
    {
     "data": {
      "text/plain": [
       "call\n",
       "0       40892\n",
       "1        3120\n",
       "dtype: int64"
      ]
     },
     "metadata": {},
     "output_type": "display_data"
    },
    {
     "data": {
      "text/plain": [
       "call\n",
       "0       39303\n",
       "1        2877\n",
       "dtype: int64"
      ]
     },
     "metadata": {},
     "output_type": "display_data"
    },
    {
     "data": {
      "text/plain": [
       "call\n",
       "0       39026\n",
       "1        2880\n",
       "dtype: int64"
      ]
     },
     "metadata": {},
     "output_type": "display_data"
    },
    {
     "data": {
      "text/plain": [
       "'BCR at early game'"
      ]
     },
     "metadata": {},
     "output_type": "display_data"
    },
    {
     "data": {
      "text/plain": [
       "0.06929850583147278"
      ]
     },
     "metadata": {},
     "output_type": "display_data"
    },
    {
     "data": {
      "text/plain": [
       "call\n",
       "0       37698\n",
       "1        2960\n",
       "dtype: int64"
      ]
     },
     "metadata": {},
     "output_type": "display_data"
    },
    {
     "data": {
      "text/plain": [
       "call\n",
       "0       38065\n",
       "1        2903\n",
       "dtype: int64"
      ]
     },
     "metadata": {},
     "output_type": "display_data"
    },
    {
     "data": {
      "text/plain": [
       "call\n",
       "0       38604\n",
       "1        2858\n",
       "dtype: int64"
      ]
     },
     "metadata": {},
     "output_type": "display_data"
    },
    {
     "data": {
      "text/plain": [
       "'BCR at mid game'"
      ]
     },
     "metadata": {},
     "output_type": "display_data"
    },
    {
     "data": {
      "text/plain": [
       "0.07085174834264917"
      ]
     },
     "metadata": {},
     "output_type": "display_data"
    },
    {
     "data": {
      "text/plain": [
       "call\n",
       "0       39232\n",
       "1        2914\n",
       "dtype: int64"
      ]
     },
     "metadata": {},
     "output_type": "display_data"
    },
    {
     "data": {
      "text/plain": [
       "call\n",
       "0       39233\n",
       "1        2993\n",
       "dtype: int64"
      ]
     },
     "metadata": {},
     "output_type": "display_data"
    },
    {
     "data": {
      "text/plain": [
       "call\n",
       "0       29431\n",
       "1        2212\n",
       "dtype: int64"
      ]
     },
     "metadata": {},
     "output_type": "display_data"
    },
    {
     "data": {
      "text/plain": [
       "'BCR at end game'"
      ]
     },
     "metadata": {},
     "output_type": "display_data"
    },
    {
     "data": {
      "text/plain": [
       "0.06998232987113735"
      ]
     },
     "execution_count": 35,
     "metadata": {},
     "output_type": "execute_result"
    }
   ],
   "source": [
    "inn1 = df2022[[\"call\"]].loc[df2022[\"inning\"] == 1]\n",
    "inn2 = df2022[[\"call\"]].loc[df2022[\"inning\"] == 2]\n",
    "inn3 = df2022[[\"call\"]].loc[df2022[\"inning\"] == 3]\n",
    "display(inn1.value_counts())\n",
    "display(inn2.value_counts())\n",
    "display(inn3.value_counts())\n",
    "display(\"BCR at early game\")\n",
    "display((3120+2877+2880)/ (len(inn1)+len(inn2)+len(inn3)))\n",
    "\n",
    "inn4 = df2022[[\"call\"]].loc[df2022[\"inning\"] == 4]\n",
    "inn5 = df2022[[\"call\"]].loc[df2022[\"inning\"] == 5]\n",
    "inn6 = df2022[[\"call\"]].loc[df2022[\"inning\"] == 6]\n",
    "display(inn4.value_counts())\n",
    "display(inn5.value_counts())\n",
    "display(inn6.value_counts())\n",
    "display(\"BCR at mid game\")\n",
    "display((2960+2903+2858)/ (len(inn4)+len(inn5)+len(inn6)))\n",
    "\n",
    "inn7 = df2022[[\"call\"]].loc[df2022[\"inning\"] == 7]\n",
    "inn8 = df2022[[\"call\"]].loc[df2022[\"inning\"] == 8]\n",
    "inn9 = df2022[[\"call\"]].loc[df2022[\"inning\"] == 9]\n",
    "display(inn7.value_counts())\n",
    "display(inn8.value_counts())\n",
    "display(inn9.value_counts())\n",
    "display(\"BCR at end game\")\n",
    "(2914+2993+2212)/ (len(inn7)+len(inn8)+len(inn9))"
   ]
  },
  {
   "cell_type": "markdown",
   "id": "f4998a62",
   "metadata": {},
   "source": [
    "# extra inning"
   ]
  },
  {
   "cell_type": "code",
   "execution_count": 36,
   "id": "cb5f76a3",
   "metadata": {},
   "outputs": [],
   "source": [
    "df2 = df[[\"call\",\"inning\"]].loc[df[\"inning\"] >= 9]"
   ]
  },
  {
   "cell_type": "code",
   "execution_count": 37,
   "id": "c7fc195f",
   "metadata": {},
   "outputs": [
    {
     "data": {
      "text/html": [
       "<div>\n",
       "<style scoped>\n",
       "    .dataframe tbody tr th:only-of-type {\n",
       "        vertical-align: middle;\n",
       "    }\n",
       "\n",
       "    .dataframe tbody tr th {\n",
       "        vertical-align: top;\n",
       "    }\n",
       "\n",
       "    .dataframe thead th {\n",
       "        text-align: right;\n",
       "    }\n",
       "</style>\n",
       "<table border=\"1\" class=\"dataframe\">\n",
       "  <thead>\n",
       "    <tr style=\"text-align: right;\">\n",
       "      <th></th>\n",
       "      <th>call</th>\n",
       "      <th>inning</th>\n",
       "    </tr>\n",
       "  </thead>\n",
       "  <tbody>\n",
       "    <tr>\n",
       "      <th>0</th>\n",
       "      <td>0</td>\n",
       "      <td>9</td>\n",
       "    </tr>\n",
       "    <tr>\n",
       "      <th>119</th>\n",
       "      <td>0</td>\n",
       "      <td>9</td>\n",
       "    </tr>\n",
       "    <tr>\n",
       "      <th>120</th>\n",
       "      <td>0</td>\n",
       "      <td>9</td>\n",
       "    </tr>\n",
       "    <tr>\n",
       "      <th>121</th>\n",
       "      <td>1</td>\n",
       "      <td>9</td>\n",
       "    </tr>\n",
       "    <tr>\n",
       "      <th>122</th>\n",
       "      <td>0</td>\n",
       "      <td>9</td>\n",
       "    </tr>\n",
       "    <tr>\n",
       "      <th>...</th>\n",
       "      <td>...</td>\n",
       "      <td>...</td>\n",
       "    </tr>\n",
       "    <tr>\n",
       "      <th>1624138</th>\n",
       "      <td>0</td>\n",
       "      <td>9</td>\n",
       "    </tr>\n",
       "    <tr>\n",
       "      <th>1624139</th>\n",
       "      <td>0</td>\n",
       "      <td>9</td>\n",
       "    </tr>\n",
       "    <tr>\n",
       "      <th>1624140</th>\n",
       "      <td>0</td>\n",
       "      <td>9</td>\n",
       "    </tr>\n",
       "    <tr>\n",
       "      <th>1624141</th>\n",
       "      <td>0</td>\n",
       "      <td>9</td>\n",
       "    </tr>\n",
       "    <tr>\n",
       "      <th>1624142</th>\n",
       "      <td>0</td>\n",
       "      <td>9</td>\n",
       "    </tr>\n",
       "  </tbody>\n",
       "</table>\n",
       "<p>160134 rows × 2 columns</p>\n",
       "</div>"
      ],
      "text/plain": [
       "        call  inning\n",
       "0          0       9\n",
       "119        0       9\n",
       "120        0       9\n",
       "121        1       9\n",
       "122        0       9\n",
       "...      ...     ...\n",
       "1624138    0       9\n",
       "1624139    0       9\n",
       "1624140    0       9\n",
       "1624141    0       9\n",
       "1624142    0       9\n",
       "\n",
       "[160134 rows x 2 columns]"
      ]
     },
     "execution_count": 37,
     "metadata": {},
     "output_type": "execute_result"
    }
   ],
   "source": [
    "df2"
   ]
  },
  {
   "cell_type": "code",
   "execution_count": 38,
   "id": "40b8c605",
   "metadata": {},
   "outputs": [
    {
     "data": {
      "text/plain": [
       "9     135574\n",
       "10     13391\n",
       "11      5678\n",
       "12      2535\n",
       "13      1383\n",
       "14       699\n",
       "15       444\n",
       "16       230\n",
       "18        94\n",
       "17        91\n",
       "19        15\n",
       "Name: inning, dtype: int64"
      ]
     },
     "execution_count": 38,
     "metadata": {},
     "output_type": "execute_result"
    }
   ],
   "source": [
    "df2['inning'].value_counts()"
   ]
  },
  {
   "cell_type": "code",
   "execution_count": 39,
   "id": "e6d26f0f",
   "metadata": {},
   "outputs": [],
   "source": [
    "extra_bcr = df2.groupby(\"inning\").mean()"
   ]
  },
  {
   "cell_type": "code",
   "execution_count": 40,
   "id": "ed52919d",
   "metadata": {},
   "outputs": [
    {
     "data": {
      "text/html": [
       "<div>\n",
       "<style scoped>\n",
       "    .dataframe tbody tr th:only-of-type {\n",
       "        vertical-align: middle;\n",
       "    }\n",
       "\n",
       "    .dataframe tbody tr th {\n",
       "        vertical-align: top;\n",
       "    }\n",
       "\n",
       "    .dataframe thead th {\n",
       "        text-align: right;\n",
       "    }\n",
       "</style>\n",
       "<table border=\"1\" class=\"dataframe\">\n",
       "  <thead>\n",
       "    <tr style=\"text-align: right;\">\n",
       "      <th></th>\n",
       "      <th>call</th>\n",
       "    </tr>\n",
       "    <tr>\n",
       "      <th>inning</th>\n",
       "      <th></th>\n",
       "    </tr>\n",
       "  </thead>\n",
       "  <tbody>\n",
       "    <tr>\n",
       "      <th>9</th>\n",
       "      <td>0.075442</td>\n",
       "    </tr>\n",
       "    <tr>\n",
       "      <th>10</th>\n",
       "      <td>0.073632</td>\n",
       "    </tr>\n",
       "    <tr>\n",
       "      <th>11</th>\n",
       "      <td>0.076259</td>\n",
       "    </tr>\n",
       "    <tr>\n",
       "      <th>12</th>\n",
       "      <td>0.082051</td>\n",
       "    </tr>\n",
       "    <tr>\n",
       "      <th>13</th>\n",
       "      <td>0.070137</td>\n",
       "    </tr>\n",
       "    <tr>\n",
       "      <th>14</th>\n",
       "      <td>0.055794</td>\n",
       "    </tr>\n",
       "    <tr>\n",
       "      <th>15</th>\n",
       "      <td>0.078829</td>\n",
       "    </tr>\n",
       "    <tr>\n",
       "      <th>16</th>\n",
       "      <td>0.095652</td>\n",
       "    </tr>\n",
       "    <tr>\n",
       "      <th>17</th>\n",
       "      <td>0.021978</td>\n",
       "    </tr>\n",
       "    <tr>\n",
       "      <th>18</th>\n",
       "      <td>0.095745</td>\n",
       "    </tr>\n",
       "    <tr>\n",
       "      <th>19</th>\n",
       "      <td>0.066667</td>\n",
       "    </tr>\n",
       "  </tbody>\n",
       "</table>\n",
       "</div>"
      ],
      "text/plain": [
       "            call\n",
       "inning          \n",
       "9       0.075442\n",
       "10      0.073632\n",
       "11      0.076259\n",
       "12      0.082051\n",
       "13      0.070137\n",
       "14      0.055794\n",
       "15      0.078829\n",
       "16      0.095652\n",
       "17      0.021978\n",
       "18      0.095745\n",
       "19      0.066667"
      ]
     },
     "execution_count": 40,
     "metadata": {},
     "output_type": "execute_result"
    }
   ],
   "source": [
    "extra_bcr"
   ]
  },
  {
   "cell_type": "code",
   "execution_count": 41,
   "id": "240c5cba",
   "metadata": {},
   "outputs": [
    {
     "data": {
      "text/plain": [
       "0    1478195\n",
       "1     121528\n",
       "Name: call, dtype: int64"
      ]
     },
     "metadata": {},
     "output_type": "display_data"
    },
    {
     "data": {
      "text/plain": [
       "0.07596815198631263"
      ]
     },
     "execution_count": 41,
     "metadata": {},
     "output_type": "execute_result"
    }
   ],
   "source": [
    "display(df1[\"call\"].value_counts())\n",
    "#regular inning 5 year bcr\n",
    "df1[\"call\"].mean()"
   ]
  },
  {
   "cell_type": "code",
   "execution_count": 42,
   "id": "7f97ce8f",
   "metadata": {},
   "outputs": [
    {
     "data": {
      "text/plain": [
       "0.2649472320120392"
      ]
     },
     "execution_count": 42,
     "metadata": {},
     "output_type": "execute_result"
    }
   ],
   "source": [
    "df1[\"call\"].std()"
   ]
  },
  {
   "cell_type": "code",
   "execution_count": 43,
   "id": "f31c0432",
   "metadata": {},
   "outputs": [
    {
     "data": {
      "text/plain": [
       "0    148074\n",
       "1     12060\n",
       "Name: call, dtype: int64"
      ]
     },
     "metadata": {},
     "output_type": "display_data"
    },
    {
     "data": {
      "text/plain": [
       "0.07531192626175578"
      ]
     },
     "execution_count": 43,
     "metadata": {},
     "output_type": "execute_result"
    }
   ],
   "source": [
    "display(df2[\"call\"].value_counts())\n",
    "#extra inning 5 year bcr\n",
    "df2[\"call\"].mean()"
   ]
  },
  {
   "cell_type": "code",
   "execution_count": 44,
   "id": "833a9437",
   "metadata": {},
   "outputs": [
    {
     "data": {
      "text/plain": [
       "0.2638948178976778"
      ]
     },
     "execution_count": 44,
     "metadata": {},
     "output_type": "execute_result"
    }
   ],
   "source": [
    "df2[\"call\"].std()"
   ]
  },
  {
   "cell_type": "code",
   "execution_count": 45,
   "id": "0b801f54",
   "metadata": {},
   "outputs": [],
   "source": [
    "#there is no evidence that extra innings cost performance"
   ]
  },
  {
   "cell_type": "code",
   "execution_count": 46,
   "id": "48ebf15d",
   "metadata": {},
   "outputs": [],
   "source": [
    "#what if remove the outliers and only include inning 10-14?"
   ]
  },
  {
   "cell_type": "code",
   "execution_count": 47,
   "id": "0e6193e1",
   "metadata": {},
   "outputs": [],
   "source": [
    "df3 = df2[[\"call\",\"inning\"]].loc[df2[\"inning\"] <= 14]"
   ]
  },
  {
   "cell_type": "code",
   "execution_count": 48,
   "id": "28f18c9b",
   "metadata": {},
   "outputs": [
    {
     "data": {
      "text/plain": [
       "0    147269\n",
       "1     11991\n",
       "Name: call, dtype: int64"
      ]
     },
     "metadata": {},
     "output_type": "display_data"
    }
   ],
   "source": [
    "display(df3[\"call\"].value_counts())"
   ]
  },
  {
   "cell_type": "code",
   "execution_count": 49,
   "id": "704be35f",
   "metadata": {},
   "outputs": [
    {
     "data": {
      "text/plain": [
       "0.07529197538616099"
      ]
     },
     "execution_count": 49,
     "metadata": {},
     "output_type": "execute_result"
    }
   ],
   "source": [
    "df3['call'].mean()"
   ]
  },
  {
   "cell_type": "code",
   "execution_count": 50,
   "id": "f0e7501c",
   "metadata": {},
   "outputs": [],
   "source": [
    "#there is no evidence that extra innings cost performance"
   ]
  },
  {
   "cell_type": "code",
   "execution_count": null,
   "id": "b822bcf3",
   "metadata": {},
   "outputs": [],
   "source": []
  }
 ],
 "metadata": {
  "kernelspec": {
   "display_name": "Python 3 (ipykernel)",
   "language": "python",
   "name": "python3"
  },
  "language_info": {
   "codemirror_mode": {
    "name": "ipython",
    "version": 3
   },
   "file_extension": ".py",
   "mimetype": "text/x-python",
   "name": "python",
   "nbconvert_exporter": "python",
   "pygments_lexer": "ipython3",
   "version": "3.9.12"
  }
 },
 "nbformat": 4,
 "nbformat_minor": 5
}
